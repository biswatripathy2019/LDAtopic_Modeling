{
  "nbformat": 4,
  "nbformat_minor": 0,
  "metadata": {
    "colab": {
      "name": "Untitled2.ipynb",
      "provenance": []
    },
    "kernelspec": {
      "name": "python3",
      "display_name": "Python 3"
    },
    "language_info": {
      "name": "python"
    }
  },
  "cells": [
    {
      "cell_type": "code",
      "metadata": {
        "colab": {
          "resources": {
            "http://localhost:8080/nbextensions/google.colab/files.js": {
              "data": "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",
              "ok": true,
              "headers": [
                [
                  "content-type",
                  "application/javascript"
                ]
              ],
              "status": 200,
              "status_text": ""
            }
          },
          "base_uri": "https://localhost:8080/",
          "height": 109
        },
        "id": "93fBvuhLjy0y",
        "outputId": "457cf15c-3cec-4d5f-a9e5-8b62124a95a4"
      },
      "source": [
        "from google.colab import files\n",
        "files.upload()"
      ],
      "execution_count": 16,
      "outputs": [
        {
          "output_type": "display_data",
          "data": {
            "text/html": [
              "\n",
              "     <input type=\"file\" id=\"files-bc06b165-985a-455c-96c2-7cf6406ae4a9\" name=\"files[]\" multiple disabled\n",
              "        style=\"border:none\" />\n",
              "     <output id=\"result-bc06b165-985a-455c-96c2-7cf6406ae4a9\">\n",
              "      Upload widget is only available when the cell has been executed in the\n",
              "      current browser session. Please rerun this cell to enable.\n",
              "      </output>\n",
              "      <script src=\"/nbextensions/google.colab/files.js\"></script> "
            ],
            "text/plain": [
              "<IPython.core.display.HTML object>"
            ]
          },
          "metadata": {
            "tags": []
          }
        },
        {
          "output_type": "stream",
          "text": [
            "Saving lda_data.csv to lda_data.csv\n"
          ],
          "name": "stdout"
        },
        {
          "output_type": "execute_result",
          "data": {
            "text/plain": [
              "{'lda_data.csv': b'publish_date,headline_text,,,,,\\r\\n20030219,aba decides against community broadcasting licence,,,,,\\r\\n20030219,act fire witnesses must be aware of defamation,,,,,\\r\\n20030219,a g calls for infrastructure protection summit,,,,,\\r\\n20030219,air nz staff in aust strike for pay rise,,,,,\\r\\n20030219,air nz strike to affect australian travellers,,,,,\\r\\n20030219,ambitious olsson wins triple jump,,,,,\\r\\n20030219,antic delighted with record breaking barca,,,,,\\r\\n20030219,aussie qualifier stosur wastes four memphis match,,,,,\\r\\n20030219,aust addresses un security council over iraq,,,,,\\r\\n20030219,australia is locked into war timetable opp,,,,,\\r\\n20030219,australia to contribute 10 million in aid to iraq,,,,,\\r\\n20030219,barca take record as robson celebrates birthday in,,,,,\\r\\n20030219,bathhouse plans move ahead,,,,,\\r\\n20030219,big hopes for launceston cycling championship,,,,,\\r\\n20030219,big plan to boost paroo water supplies,,,,,\\r\\n20030219,blizzard buries united states in bills,,,,,\\r\\n20030219,brigadier dismisses reports troops harassed in,,,,,\\r\\n20030219,british combat troops arriving daily in kuwait,,,,,\\r\\n20030219,bryant leads lakers to double overtime win,,,,,\\r\\n20030219,bushfire victims urged to see centrelink,,,,,\\r\\n20030219,businesses should prepare for terrorist attacks,,,,,\\r\\n20030219,calleri avenges final defeat to eliminate massu,,,,,\\r\\n20030219,call for ethanol blend fuel to go ahead,,,,,\\r\\n20030219,carews freak goal leaves roma in ruins,,,,,\\r\\n20030219,cemeteries miss out on funds,,,,,\\r\\n20030219,code of conduct toughens organ donation regulations,,,,,\\r\\n20030219,commonwealth bank cuts fixed home loan rates,,,,,\\r\\n20030219,community urged to help homeless youth,,,,,\\r\\n20030219,council chief executive fails to secure position,,,,,\\r\\n20030219,councillor to contest wollongong as independent,,,,,\\r\\n20030219,council moves to protect tas heritage garden,,,,,\\r\\n20030219,council welcomes ambulance levy decision,,,,,\\r\\n20030219,council welcomes insurance breakthrough,,,,,\\r\\n20030219,crean tells alp leadership critics to shut up,,,,,\\r\\n20030219,dargo fire threat expected to rise,,,,,\\r\\n20030219,death toll continues to climb in s korean subway,,,,,\\r\\n20030219,dems hold plebiscite over iraqi conflict,,,,,\\r\\n20030219,dent downs philippoussis in tie break thriller,,,,,\\r\\n20030219,de villiers to learn fate on march 5,,,,,\\r\\n20030219,digital tv will become commonplace summit,,,,,\\r\\n20030219,direct anger at govt not soldiers crean urges,,,,,\\r\\n20030219,dispute over at smithton vegetable processing plant,,,,,\\r\\n20030219,dog mauls 18 month old toddler in nsw,,,,,\\r\\n20030219,dying korean subway passengers phoned for help,,,,,\\r\\n20030219,england change three for wales match,,,,,\\r\\n20030219,epa still trying to recover chemical clean up costs,,,,,\\r\\n20030219,expressions of interest sought to build livestock,,,,,\\r\\n20030219,fed opp to re introduce national insurance,,,,,\\r\\n20030219,firefighters contain acid spill,,,,,\\r\\n20030219,four injured in head on highway crash,,,,,\\r\\n20030219,freedom records net profit for third successive,,,,,\\r\\n20030219,funds allocated for domestic violence victims,,,,,\\r\\n20030219,funds allocated for youth at risk,,,,,\\r\\n20030219,funds announced for bridge work,,,,,\\r\\n20030219,funds to go to cadell upgrade,,,,,\\r\\n20030219,funds to help restore cossack,,,,,\\r\\n20030219,german court to give verdict on sept 11 accused,,,,,\\r\\n20030219,gilchrist backs rest policy,,,,,\\r\\n20030219,girl injured in head on highway crash,,,,,\\r\\n20030219,gold coast to hear about bilby project,,,,,\\r\\n20030219,golf club feeling smoking ban impact,,,,,\\r\\n20030219,govt is to blame for ethanols unpopularity opp,,,,,\\r\\n20030219,greens offer police station alternative,,,,,\\r\\n20030219,griffiths under fire over project knock back,,,,,\\r\\n20030219,group to meet in north west wa over rock art,,,,,\\r\\n20030219,hacker gains access to eight million credit cards,,,,,\\r\\n20030219,hanson is grossly naive over nsw issues costa,,,,,\\r\\n20030219,hanson should go back where she came from nsw mp,,,,,\\r\\n20030219,harrington raring to go after break,,,,,\\r\\n20030219,health minister backs organ and tissue storage,,,,,\\r\\n20030219,heavy metal deposits survey nearing end,,,,,\\r\\n20030219,injured rios pulls out of buenos aires open,,,,,\\r\\n20030219,inquest finds mans death accidental,,,,,\\r\\n20030219,investigations underway into death toll of korean,,,,,\\r\\n20030219,investigation underway into elster creek spill,,,,,\\r\\n20030219,iraqs neighbours plead for continued un inspections,,,,,\\r\\n20030219,iraq to pay for own rebuilding white house,,,,,\\r\\n20030219,irish man arrested over omagh bombing,,,,,\\r\\n20030219,irrigators vote over river management,,,,,\\r\\n20030219,israeli forces push into gaza strip,,,,,\\r\\n20030219,jury to consider verdict in murder case,,,,,\\r\\n20030219,juvenile sex offenders unlikely to reoffend as,,,,,\\r\\n20030219,kelly disgusted at alleged bp ethanol scare,,,,,\\r\\n20030219,kelly not surprised ethanol confidence low,,,,,\\r\\n20030219,korean subway fire 314 still missing,,,,,\\r\\n20030219,last minute call hands alinghi big lead,,,,,\\r\\n20030219,low demand forces air service cuts,,,,,\\r\\n20030219,man arrested after central qld hijack attempt,,,,,\\r\\n20030219,man charged over cooma murder,,,,,\\r\\n20030219,man fined after aboriginal tent embassy raid,,,,,\\r\\n20030219,man jailed over keno fraud,,,,,\\r\\n20030219,man with knife hijacks light plane,,,,,\\r\\n20030219,martin to lobby against losing nt seat in fed,,,,,\\r\\n20030219,massive drug crop discovered in western nsw,,,,,\\r\\n20030219,mayor warns landfill protesters,,,,,\\r\\n20030219,meeting to consider tick clearance costs,,,,,\\r\\n20030219,meeting to focus on broken hill water woes,,,,,\\r\\n20030219,moderate lift in wages growth,,,,,\\r\\n20030219,more than 40 pc of young men drink alcohol at,,,,,\\r\\n20030219,more water restrictions predicted for northern tas,,,,,\\r\\n20030219,more women urged to become councillors,,,,,\\r\\n20030219,most highly educated live in nsw wa,,,,,\\r\\n20030219,mp raises hospital concerns in parliament,,,,,\\r\\n20030219,mp rejects ambulance levy claims,,,,,\\r\\n20030219,mugabe to touch down in paris for summit,,,,,\\r\\n20030219,national gallery gets all clear after,,,,,\\r\\n20030219,nato gives green light to defend turkey,,,,,\\r\\n20030219,nca defends aboriginal tent embassy raid,,,,,\\r\\n20030219,new zealand imposes visa entry for zimbabwe,,,,,\\r\\n20030219,no side effects for new whooping cough vaccine,,,,,\\r\\n20030219,nsw govt under fire for holding back vegetation,,,,,\\r\\n20030219,nsw opp defends claims of running race campaign,,,,,\\r\\n20030219,nsw opp pledges 50m drought relief,,,,,\\r\\n20030219,nt govt boosts nurse number with overseas intake,,,,,\\r\\n20030219,nth koreans seek asylum at japanese embassy,,,,,\\r\\n20030219,nursing student intake down,,,,,\\r\\n20030219,oh brother your times up says ganguly senior,,,,,\\r\\n20030219,omodei to stay in politics,,,,,\\r\\n20030219,onesteel to invest 80m in whyalla steelworks,,,,,\\r\\n20030219,opposition urged to help protect recherche bay,,,,,\\r\\n20030219,orientation begins for uni students,,,,,\\r\\n20030219,osullivan in world cross country doubt,,,,,\\r\\n20030219,pagan says rule changes not necessary,,,,,\\r\\n20030219,pair to face court over ayr murder,,,,,\\r\\n20030219,patterson defends decision not to attend health,,,,,\\r\\n20030219,patterson no show displays govts arrogance crean,,,,,\\r\\n20030219,patterson snubs health meeting to avoid lions den,,,,,\\r\\n20030219,peace agreement may bring respite for venezuela,,,,,\\r\\n20030219,pienaar shines as ajax frustrate arsenal,,,,,\\r\\n20030219,plan for second skatepark,,,,,\\r\\n20030219,plan to encourage farmers into plantation timber,,,,,\\r\\n20030219,png nurses strike after colleague raped on way to,,,,,\\r\\n20030219,police cracking down on driver safety,,,,,\\r\\n20030219,police defend aboriginal tent embassy raid,,,,,\\r\\n20030219,policewomen accusations feature at federal crime,,,,,\\r\\n20030219,probe launched into plane crash,,,,,\\r\\n20030219,program to monitor forest harvested areas,,,,,\\r\\n20030219,public urged to check gas cylinders,,,,,\\r\\n20030219,public warned about phone scam,,,,,\\r\\n20030219,qantas international crews to strike over pay,,,,,\\r\\n20030219,qantas war plan to cut 2500 jobs outrages unions,,,,,\\r\\n20030219,qr not planning northern route sackings,,,,,\\r\\n20030219,questions public anger grows after korean subway,,,,,\\r\\n20030219,rabbit control program on trial,,,,,\\r\\n20030219,radioactive spill at wmcs olympic dam mine,,,,,\\r\\n20030219,rain eases wheatbelt water woes,,,,,\\r\\n20030219,reading go third in first division,,,,,\\r\\n20030219,record amount for gladstone ventures,,,,,\\r\\n20030219,refshauge wins defamation court case,,,,,\\r\\n20030219,regulator to inspect gm canola trials,,,,,\\r\\n20030219,report highlights container terminal potential,,,,,\\r\\n20030219,resource stocks boost all ords,,,,,\\r\\n20030219,restraint order issued against anti discrimination,,,,,\\r\\n20030219,rfs rejects claim that act authorities spurned,,,,,\\r\\n20030219,ricciuto undergoes surgery on injured ankle,,,,,\\r\\n20030219,rice mill closures to put 300 out of work,,,,,\\r\\n20030219,rsl angry about reports of troop harassment,,,,,\\r\\n20030219,safety review begins after bushwalker death,,,,,\\r\\n20030219,sa premier calls for action over river murray,,,,,\\r\\n20030219,saudi arabians to stand trial over al qaeda,,,,,\\r\\n20030219,saudi arabia tells arabs war on iraq inevitable,,,,,\\r\\n20030219,search continues for victims in s korean subway,,,,,\\r\\n20030219,second resolution on iraq expected shortly un,,,,,\\r\\n20030219,shire offers assurances over finances,,,,,\\r\\n20030219,six palestinians killed in gaza incursion,,,,,\\r\\n20030219,slow recovery predicted for aust economy,,,,,\\r\\n20030219,smoking bans hit tabcorp bottom line,,,,,\\r\\n20030219,snowtown murder trial delayed,,,,,\\r\\n20030219,states may be forced to label ethanol fuel,,,,,\\r\\n20030219,stations to get fixed home phone service,,,,,\\r\\n20030219,sterrey to steer sharks,,,,,\\r\\n20030219,still no sign of missing fisherman,,,,,\\r\\n20030219,stop changing the rules fans tell afl,,,,,\\r\\n20030219,sugar industry plan to be revealed,,,,,\\r\\n20030219,surge in new car sales in aust abs,,,,,\\r\\n20030219,swiss challengers looking to future,,,,,\\r\\n20030219,taipans placing future in publics hands,,,,,\\r\\n20030219,talk of asian nuclear arms race unhelpful downer,,,,,\\r\\n20030219,tasmanian scientists to search for east coast,,,,,\\r\\n20030219,taylor denies calling on waugh to quit,,,,,\\r\\n20030219,teen to face court over drug charges,,,,,\\r\\n20030219,testing shows dioxin above drinking water standards,,,,,\\r\\n20030219,thousands remember 61st anniversary of darwin,,,,,\\r\\n20030219,unions to ask members to support public protests,,,,,\\r\\n20030219,uni to continue tree disease study,,,,,\\r\\n20030219,us british aircraft attack sth iraq target,,,,,\\r\\n20030219,vff to buy stock feed pellets for fire affected,,,,,\\r\\n20030219,vic local councils welcome single polling day,,,,,\\r\\n20030219,victorian scientists honoured at awards,,,,,\\r\\n20030219,vowles to retire at end of season,,,,,\\r\\n20030219,wales coach accuses players of belittling red,,,,,\\r\\n20030219,warne hearing set for friday,,,,,\\r\\n20030219,webb favourite for ladies masters,,,,,\\r\\n20030219,widnes abandon paul bid,,,,,\\r\\n20030219,wildlife sanctuaries plan revealed,,,,,\\r\\n20030219,williams says tight bowling key to warriors win,,,,,\\r\\n20030219,wine chief bounces back from sacking,,,,,\\r\\n20030219,worksafe probes potato harvester injuries,,,,,\\r\\n20030220,15 dead in rebel bombing raid philippines army,,,,,\\r\\n20030220,abattoir up for sale again,,,,,\\r\\n20030220,academic upbeat about higher education review,,,,,\\r\\n20030220,administrator to be appointed to land council,,,,,\\r\\n20030220,aec to declare if nt to lose parliamentary seat,,,,,\\r\\n20030220,amcor records solid profit result,,,,,\\r\\n20030220,americas cup fourth race cancelled,,,,,\\r\\n20030220,arsenal poised to swoop on beckham report,,,,,\\r\\n20030220,aust drinking less alcohol smoking less study,,,,,\\r\\n20030220,austeel eis release due soon nsw govt,,,,,\\r\\n20030220,australian flag celebrates 100th birthday,,,,,\\r\\n20030220,awu to hold meeting over port kembla jobs,,,,,\\r\\n20030220,baby badly burnt in brisbane house fire,,,,,\\r\\n20030220,bad weather might have caused iranian plane crash,,,,,\\r\\n20030220,beckham leads as man u cut down depleted juve,,,,,\\r\\n20030220,beware the standard alcoholic drink,,,,,\\r\\n20030220,bilby dream to become reality,,,,,\\r\\n20030220,brisbane sparkies head for 10 day strike,,,,,\\r\\n20030220,britain tells nationals to leave iraq kuwait,,,,,\\r\\n20030220,british high court overturns new blair asylum,,,,,\\r\\n20030220,british magician to entomb himself in cheese,,,,,\\r\\n20030220,bungle leaves doctor waiting to practise,,,,,\\r\\n20030220,bushfire coronial inquiry winds up,,,,,\\r\\n20030220,bush thanks nato for support on turkey,,,,,\\r\\n20030220,call for ambos help in wake of funding changes,,,,,\\r\\n20030220,canegrowers hope for late summer rain,,,,,\\r\\n20030220,capriati hungry again in dubai,,,,,\\r\\n20030220,celts underdogs for uefa clash oneill,,,,,\\r\\n20030220,chambers vows to smash world mark,,,,,\\r\\n20030220,charvis pays penalty as humphreys earns shock,,,,,\\r\\n20030220,christmas is detention centre no go claims quashed,,,,,\\r\\n20030220,claim defence spending priority over health nt,,,,,\\r\\n20030220,claim education policy causing high indigenous,,,,,\\r\\n20030220,claim new code should protect autopsy consent,,,,,\\r\\n20030220,claim tas education policy causing high indigenous,,,,,\\r\\n20030220,college to continue work experience,,,,,\\r\\n20030220,concern act fire probe not covered by legal,,,,,\\r\\n20030220,concorde makes emergency landing in canada,,,,,\\r\\n20030220,coronial inquiry expected after hospital death,,,,,\\r\\n20030220,council chief laments job advertising decision,,,,,\\r\\n20030220,council general manager to step down,,,,,\\r\\n20030220,council to offer vandalism reporting reward,,,,,\\r\\n20030220,country racing clubs still hold tab fears,,,,,\\r\\n20030220,court to rule on longford gas compo today,,,,,\\r\\n20030220,cristal end eight match libertadores losing streak,,,,,\\r\\n20030220,cuper slams inter bad boy recoba,,,,,\\r\\n20030220,deportivo slip against buoyant swiss minnows basel,,,,,\\r\\n20030220,distance swimmer maroney calls it quits,,,,,\\r\\n20030220,dixon dismisses qantas monopoly claim,,,,,\\r\\n20030220,downer warns iraq action could begin soon,,,,,\\r\\n20030220,drought breaking rain may be months away,,,,,\\r\\n20030220,drought impact may be more far reaching,,,,,\\r\\n20030220,drought taking toll on insects,,,,,\\r\\n20030220,early childhood development to receive research,,,,,\\r\\n20030220,ellis webb well placed in ladies masters,,,,,\\r\\n20030220,employee granted restraining order against a d,,,,,\\r\\n20030220,england almost choke on burger king,,,,,\\r\\n20030220,england call up morris for first cap,,,,,\\r\\n20030220,epa to investigate radioactive spill in sa,,,,,\\r\\n20030220,esso not responsible for economic losses from gas,,,,,\\r\\n20030220,esso wins against class action for longford gas,,,,,\\r\\n20030220,etienne agrees to tyson fight,,,,,\\r\\n20030220,families confront korean president elect over,,,,,\\r\\n20030220,fans join flower olonga in anti mugabe protest,,,,,\\r\\n20030220,ferguson hails beckham in uniteds victory,,,,,\\r\\n20030220,fewer australians being jailed abs,,,,,\\r\\n20030220,fifa boss prepared to postpone matches for war,,,,,\\r\\n20030220,firefighters told to not attend tip blazes,,,,,\\r\\n20030220,fish cleaning facility plans announced,,,,,\\r\\n20030220,flight attendant action wont affect bundaberg,,,,,\\r\\n20030220,forest alliance rejects hindrance claims,,,,,\\r\\n20030220,former bank worker pleads guilty to theft charges,,,,,\\r\\n20030220,former treasurer charged with starting fire on sa,,,,,\\r\\n20030220,forum puts focus on regional needs,,,,,\\r\\n20030220,four nominate for nats charters towers preselection,,,,,\\r\\n20030220,france drop merceron gelez to face scots,,,,,\\r\\n20030220,french expedition site to be heritage protected,,,,,\\r\\n20030220,fuel price jumps in newcastle,,,,,\\r\\n20030220,fulham smash west brom with quickfire trio,,,,,\\r\\n20030220,ganguly leads india to victory,,,,,\\r\\n20030220,gartner wines to be wound up,,,,,\\r\\n20030220,gippsland firefighters remain on guard,,,,,\\r\\n20030220,govt canvassing ways to improve child development,,,,,\\r\\n20030220,govt to work with rhh after coroners suicide report,,,,,\\r\\n20030220,greenpeace calls for ban on gm canola,,,,,\\r\\n20030220,greens dump anti terror kits on howards doorstep,,,,,\\r\\n20030220,group airs truancy concerns,,,,,\\r\\n20030220,groups praise outgoing opposition agriculture,,,,,\\r\\n20030220,group to take over reef hq building,,,,,\\r\\n20030220,hagan to blood rookies against penrith,,,,,\\r\\n20030220,houllier backs owen to break rush scoring record,,,,,\\r\\n20030220,howard steps up criticism of anti war protesters,,,,,\\r\\n20030220,howard vows to stay on as pm until iraq crisis,,,,,\\r\\n20030220,hussein says iraq doesnt want war with us,,,,,\\r\\n20030220,illegal fishing hot spots identified,,,,,\\r\\n20030220,immigration raid in melbourne draws flak,,,,,\\r\\n20030220,impatience grows over water management plan,,,,,\\r\\n20030220,indy meeting likely to include rain racing talks,,,,,\\r\\n20030220,injuries threaten united finals bid,,,,,\\r\\n20030220,interest sought in building stage one of bypass,,,,,\\r\\n20030220,investigations underway into qantas skid,,,,,\\r\\n20030220,investor in planned ethanol plant laments trial,,,,,\\r\\n20030220,iran military plane crash kills 302,,,,,\\r\\n20030220,iran plane crashes with at least 250 aboard tv,,,,,\\r\\n20030220,iraqi use of human shields a war crime us,,,,,\\r\\n20030220,italy remain unchanged for ireland clash,,,,,\\r\\n20030220,kalgoorlie boulder crime rate declines,,,,,\\r\\n20030220,kayakers rescued after second day of adventure,,,,,\\r\\n20030220,kirwan sticks with winning formula for ireland,,,,,\\r\\n20030220,korean books atp date with top seed roddick,,,,,\\r\\n20030220,landholder contribution still under discussion,,,,,\\r\\n20030220,lawyers allowed to visit manus is detention centre,,,,,\\r\\n20030220,lawyers set to appeal mans sept 11 conviction,,,,,\\r\\n20030220,lawyers to review case before any esso appeal,,,,,\\r\\n20030220,lend leases posts 370 million loss,,,,,\\r\\n20030220,lethal backs nine point rule change,,,,,\\r\\n20030220,m5 airport tunnel remains closed after accident,,,,,\\r\\n20030220,macarthurs kingfisher suffers minor damage,,,,,\\r\\n20030220,man apologises for plane hijack,,,,,\\r\\n20030220,man awaits sentencing over denmark murder,,,,,\\r\\n20030220,man being questioned over qld backpacker death,,,,,\\r\\n20030220,man charged over roxby downs plane incident,,,,,\\r\\n20030220,man in hospital after stabbing attack,,,,,\\r\\n20030220,man loses defamation compo bid,,,,,\\r\\n20030220,man on murder charge refused bail,,,,,\\r\\n20030220,man to face court over alleged hijack,,,,,\\r\\n20030220,man to face court over attempted armed robbery,,,,,\\r\\n20030220,man who whacked thatcher gets 3 months jail,,,,,\\r\\n20030220,maroney calls it quits,,,,,\\r\\n20030220,medal recognises islander war efforts,,,,,\\r\\n20030220,meetings to consider glenelg river future,,,,,\\r\\n20030220,melbourne man receives massive compo payout after,,,,,\\r\\n20030220,mgladbach leave danger zone with home win,,,,,\\r\\n20030220,mine rating challenge result expected in march,,,,,\\r\\n20030220,miner exploring for nickel deposits,,,,,\\r\\n20030220,molotov cocktail suspected in melb hotel fire,,,,,\\r\\n20030220,more anti war rallies planned,,,,,\\r\\n20030220,more land for noosa national park,,,,,\\r\\n20030220,more teachers are at danger from students union,,,,,\\r\\n20030220,more than 60 detained after immigration raid,,,,,\\r\\n20030220,more women unlikely to join mens pga masters,,,,,\\r\\n20030220,mosley ready for engine compromise,,,,,\\r\\n20030220,motorists will avoid ethanol blended fuels labor,,,,,\\r\\n20030220,mud crab business on the move,,,,,\\r\\n20030220,murray meeting wouldnt detract from ministerial,,,,,\\r\\n20030220,nats seek probe bushfires probe,,,,,\\r\\n20030220,new boat takes to waterways,,,,,\\r\\n20030220,new zealand to discover kenya fate on thursday,,,,,\\r\\n20030220,no funding discussion until after nsw poll,,,,,\\r\\n20030220,no penalties for church over damaged monument,,,,,\\r\\n20030220,nsw coalition making magic pudding election,,,,,\\r\\n20030220,nt govt announces community benefit grants,,,,,\\r\\n20030220,offers roll in for classic holden,,,,,\\r\\n20030220,oil prices hit new high,,,,,\\r\\n20030220,oldfield to front court over one nation pre,,,,,\\r\\n20030220,one nation pre selection hearing continues in nsw,,,,,\\r\\n20030220,packer hands in licence as pistol investigation,,,,,\\r\\n20030220,pakistani air force chief killed in air crash,,,,,\\r\\n20030220,palaszczuk wont make disaster funds promise,,,,,\\r\\n20030220,parks move to protect high conservation areas,,,,,\\r\\n20030220,peace group denies members harassing soldiers,,,,,\\r\\n20030220,people trapped after m5 pile up,,,,,\\r\\n20030220,pilot makes emergency landing at adelaide airport,,,,,\\r\\n20030220,players continue zimbabwe protest,,,,,\\r\\n20030220,pm criticism of protesters disgraceful crean,,,,,\\r\\n20030220,pm defends criticism of anti war protesters,,,,,\\r\\n20030220,police continue probe into human remains find,,,,,\\r\\n20030220,police find second cannabis crop,,,,,\\r\\n20030220,police hope to gain an edge on weapons users,,,,,\\r\\n20030220,police locate missing family of 6 after house,,,,,\\r\\n20030220,police make arrests after drug raids,,,,,\\r\\n20030220,police seek help over pay tv piracy,,,,,\\r\\n20030220,police tax office to fight chop chop trade,,,,,\\r\\n20030220,police wont rule out link between drug plantations,,,,,\\r\\n20030220,politicians breeding publics anti troop sentiment,,,,,\\r\\n20030220,pollock denies split in proteas camp,,,,,\\r\\n20030220,population drift forces new federal boundaries,,,,,\\r\\n20030220,powell to visit asia in bid to ease nth korean,,,,,\\r\\n20030220,predictions of good wheatbelt rain,,,,,\\r\\n20030220,probe launched into fatal police pursuit,,,,,\\r\\n20030220,protesters condemn howard criticism of anti war,,,,,\\r\\n20030220,protocols were followed in immigration raids,,,,,\\r\\n20030220,public warned about snake handling dangers,,,,,\\r\\n20030220,pumping continues at richmond after flooding,,,,,\\r\\n20030220,qantas draws flak over redundancy talk,,,,,\\r\\n20030220,qantas flags job cuts despite record profit,,,,,\\r\\n20030220,qantas records 353 million profit,,,,,\\r\\n20030220,qfvg upset over retail prices,,,,,\\r\\n20030220,qld govt says new hospital on schedule,,,,,\\r\\n20030220,qld nats close to deal with libs springborg,,,,,\\r\\n20030220,racing club sneak a point in peru,,,,,\\r\\n20030220,rain boosts farmers confidence,,,,,\\r\\n20030220,rain may force aussie bowling change buchanan,,,,,\\r\\n20030220,ram raid targets newsagency,,,,,\\r\\n20030220,road funds to tackle flooding,,,,,\\r\\n20030220,ronaldo puts real back in the race,,,,,\\r\\n20030220,ruiz hat trick as guatemala rout nicaragua,,,,,\\r\\n20030220,saff to gauge feelings on planned crown lands bill,,,,,\\r\\n20030220,safin escude on rotterdam comeback trail,,,,,\\r\\n20030220,sa govt defends moves to force fine defaulters to,,,,,\\r\\n20030220,sa govt to appeal against fishing decision,,,,,\\r\\n20030220,schmeichel set to miss arsenal trip,,,,,\\r\\n20030220,school to reopen after paint fume scare,,,,,\\r\\n20030220,scotland refuse to panic,,,,,\\r\\n20030220,seaman injury crisis for arsenal,,,,,\\r\\n20030220,self cloning crayfish threatens native species,,,,,\\r\\n20030220,socceroos creep up world rankings,,,,,\\r\\n20030220,solar cars to turn heads,,,,,\\r\\n20030220,sporting task force planning begins,,,,,\\r\\n20030220,start of americas cup race four delayed,,,,,\\r\\n20030220,stone to stay on as federal liberal president,,,,,\\r\\n20030220,sun needed for good downpour,,,,,\\r\\n20030220,taipans win keeps play off dreams alive,,,,,\\r\\n20030220,tas police to question injured man about house fire,,,,,\\r\\n20030220,taxi driver to face sex trial,,,,,\\r\\n20030220,tension increases after fighter strays into sth,,,,,\\r\\n20030220,terror weapons pose minimal risk british expert,,,,,\\r\\n20030220,thousands to visit dairy field days,,,,,\\r\\n20030220,three israelis injured as hamas made rockets hit,,,,,\\r\\n20030220,tnz shuffles pack as defeat looms,,,,,\\r\\n20030220,tomasson gives milan narrow win over lokomotiv,,,,,\\r\\n20030220,tough times ahead for water allocations,,,,,\\r\\n20030220,tourism industry must be protected from iraq,,,,,\\r\\n20030220,trial hears woman denied killing fiance,,,,,\\r\\n20030220,triathletes back bris to gold coast bikeway,,,,,\\r\\n20030220,truck roll destroys furniture,,,,,\\r\\n20030220,turkey stands firm against us aid offer,,,,,\\r\\n20030220,turkey still undecided over us aid for gulf attack,,,,,\\r\\n20030220,union disunity over mccains enterprise agreement,,,,,\\r\\n20030220,un security council ends two day open debate on,,,,,\\r\\n20030220,us invited to talks with burmese military junta,,,,,\\r\\n20030220,us launches homeland security ready campaign,,,,,\\r\\n20030220,us markets remain jittery in shadow of war,,,,,\\r\\n20030220,us tells turkey time running out for aid offer,,,,,\\r\\n20030220,us to take no wto action against europe over ge,,,,,\\r\\n20030220,uzbek journalist sentenced to seven years in jail,,,,,\\r\\n20030220,verstappen pleased with new minardis track debut,,,,,\\r\\n20030220,vic govt speaks out over rice mill closure claims,,,,,\\r\\n20030220,wa fire crews battle bushfire at marangaroo,,,,,\\r\\n20030220,war talk takes toll on all ords,,,,,\\r\\n20030220,war with iraq could cost 120bn economists,,,,,\\r\\n20030220,watkins jeered at education forum,,,,,\\r\\n20030220,wa wine destined for us,,,,,\\r\\n20030220,western power reveals power supply bid details,,,,,\\r\\n20030220,wide bay economy growing stronger,,,,,\\r\\n20030220,wine exporters urged to push ahead,,,,,\\r\\n20030220,winemakers move considered loss for tas industry,,,,,\\r\\n20030220,woman faces court over child prostitution,,,,,\\r\\n20030220,yacht loses mast in trawler incident,,,,,\\r\\n20030220,zimbabwe bars british reporter from world cup,,,,,\\r\\n20030221,accc too timid in petrol price investigations,,,,,\\r\\n20030221,action wanted to lower indigenous unemployment rate,,,,,\\r\\n20030221,aec ruling to scrap federal seat hurts us the most,,,,,\\r\\n20030221,aek shut out malaga to claim goalless draw,,,,,\\r\\n20030221,allan guilty on cash charges,,,,,\\r\\n20030221,allan unlikely to appeal fine,,,,,\\r\\n20030221,ama airs hospital reform concerns,,,,,\\r\\n20030221,ama delivers health concerns list to politicians,,,,,\\r\\n20030221,andersson atwal miss record in malaysia,,,,,\\r\\n20030221,antarctic rocks could aid global warming,,,,,\\r\\n20030221,anz confident of growth in tough environment,,,,,\\r\\n20030221,anz to pay more than 260 million to tax office,,,,,\\r\\n20030221,arab states press for war crimes condemnation of,,,,,\\r\\n20030221,at least 26 dead in us club fire,,,,,\\r\\n20030221,at least 42 injured in rhode island nightclub fire,,,,,\\r\\n20030221,aussie dollar continues its climb,,,,,\\r\\n20030221,aust could be in top four al qaeda target list,,,,,\\r\\n20030221,australia to withdraw bougainville peace monitors,,,,,\\r\\n20030221,aust share market ends week in negative territory,,,,,\\r\\n20030221,bartlett vows to block govt plans for sa nuclear,,,,,\\r\\n20030221,beattie unaware of tree clearing funds hold up,,,,,\\r\\n20030221,bedi labels murali a chucker,,,,,\\r\\n20030221,belgian police recover stolen works,,,,,\\r\\n20030221,bhp port kembla production restarts,,,,,\\r\\n20030221,big guns back to business in the premier league,,,,,\\r\\n20030221,blake paradorn upset in memphis,,,,,\\r\\n20030221,bracks backs ruling on deans 50000 a year pension,,,,,\\r\\n20030221,british govt clashes with high court over asylum,,,,,\\r\\n20030221,british pop awards will be platform for iraq,,,,,\\r\\n20030221,briton stabbed to death in bangkok,,,,,\\r\\n20030221,brothel owner acquitted of hiring underage,,,,,\\r\\n20030221,brothel owner fronts court after allegedly hiring,,,,,\\r\\n20030221,burmas suu kyi sentenced to one day jail fined,,,,,\\r\\n20030221,bushfires burn over 1m hectares,,,,,\\r\\n20030221,cairns canberra grab nbl wins,,,,,\\r\\n20030221,cairns injured in kiwi nightclub brawl,,,,,\\r\\n20030221,cairns injured in nightclub brawl report,,,,,\\r\\n20030221,call to scrap national plantation target,,,,,\\r\\n20030221,candleholders recalled as fire risk,,,,,\\r\\n20030221,carr off the hook over brogden debate pm,,,,,\\r\\n20030221,celts sink 10 man stuttgart,,,,,\\r\\n20030221,central qld park area expanded,,,,,\\r\\n20030221,centrelink to offer drought counselling,,,,,\\r\\n20030221,china to wage chemical war on chewing gum blobs,,,,,\\r\\n20030221,chirac mugabe talk on sidelines of africa summit,,,,,\\r\\n20030221,christmas island residents not aware of detention,,,,,\\r\\n20030221,claim low oil inventory causing high petrol prices,,,,,\\r\\n20030221,claims live sheep cattle exports threatening tas,,,,,\\r\\n20030221,claims more rain will boost stock prices,,,,,\\r\\n20030221,class action may cost esso 50m,,,,,\\r\\n20030221,clinton cancels trip to india,,,,,\\r\\n20030221,coalition promises to scrap anglers fee,,,,,\\r\\n20030221,committal continues into goulburn jail riot,,,,,\\r\\n20030221,costello unhappy he wasnt consulted by stone,,,,,\\r\\n20030221,council approves poultry farm,,,,,\\r\\n20030221,council awaits more rain,,,,,\\r\\n20030221,council considers indigenous caravan park plan,,,,,\\r\\n20030221,council elections planned for may,,,,,\\r\\n20030221,council rejects combined field days stand idea,,,,,\\r\\n20030221,council to change tree protection by law,,,,,\\r\\n20030221,council to fund groundwater study,,,,,\\r\\n20030221,counsel begin summing up at warnes doping hearing,,,,,\\r\\n20030221,criminal charges pending in s korea subway probe,,,,,\\r\\n20030221,crocs prove too good for bullets,,,,,\\r\\n20030221,date set for bushfires coronial inquiry,,,,,\\r\\n20030221,dean to receive lifetime parliamentary pension,,,,,\\r\\n20030221,death spells end to record marriage,,,,,\\r\\n20030221,demons thump tigers,,,,,\\r\\n20030221,deportivo cali outclass sulky river plate,,,,,\\r\\n20030221,deschamps chases old flame marseille,,,,,\\r\\n20030221,disaster funds to allow shire to complete other,,,,,\\r\\n20030221,dortmund ready to hound bayern,,,,,\\r\\n20030221,downpour closes tourist roads,,,,,\\r\\n20030221,drought impacting on roadworks,,,,,\\r\\n20030221,drought predicted to have long lasting impact,,,,,\\r\\n20030221,education dept considers rural concerns,,,,,\\r\\n20030221,family court rejects bid to invalidate transsexual,,,,,\\r\\n20030221,farmers celebrate good rain,,,,,\\r\\n20030221,fears patterson hiding bad news tas health minister,,,,,\\r\\n20030221,federal funds sought for wave studies,,,,,\\r\\n20030221,fed govt considering appeal over transsexual,,,,,\\r\\n20030221,firefighters win battle to contain beechford blaze,,,,,\\r\\n20030221,fishers to meet minister over court ruling,,,,,\\r\\n20030221,fishing group seeks action over pilchard imports,,,,,\\r\\n20030221,flight attendants action likely to affect,,,,,\\r\\n20030221,footy great gets behind indigenous rights campaign,,,,,\\r\\n20030221,former socceroos coach thomson dies,,,,,\\r\\n20030221,funeral held for cricket legend,,,,,\\r\\n20030221,funk leads elkington in california,,,,,\\r\\n20030221,gebrselassie plans world record comeback,,,,,\\r\\n20030221,g g to witness church bell hand over,,,,,\\r\\n20030221,gold coast gets us tourism assurances,,,,,\\r\\n20030221,group concerned rain brings wrong impression,,,,,\\r\\n20030221,group gets clearer understanding of farmers gm,,,,,\\r\\n20030221,guga reaches buenos aires quarters,,,,,\\r\\n20030221,health service speaks out over patient death,,,,,\\r\\n20030221,hoddle st murderer granted right to seek judicial,,,,,\\r\\n20030221,horse ride to re enact mt isa mine find,,,,,\\r\\n20030221,howard repeats zimbabwe boycott call,,,,,\\r\\n20030221,hundreds of triathletes to head for coffs,,,,,\\r\\n20030221,hungarian thief makes amends by posts,,,,,\\r\\n20030221,hyypia the hero as liverpool bounce back,,,,,\\r\\n20030221,iaea to visit iran to assess nuclear program,,,,,\\r\\n20030221,indian jailed for smuggling pakistani in suitcase,,,,,\\r\\n20030221,indian players to retrace gandhi journey,,,,,\\r\\n20030221,indonesia says australia travel warnings,,,,,\\r\\n20030221,industrial action to impact on brisbane schools,,,,,\\r\\n20030221,investigation underway into m5 pile up,,,,,\\r\\n20030221,investigator probes sa hospital staff complaints,,,,,\\r\\n20030221,jackson hits back at explosive british tv interview,,,,,\\r\\n20030221,japanese tourist drowns in gold coast surf,,,,,\\r\\n20030221,joblink issues statement over sacking,,,,,\\r\\n20030221,keegan aiming to bring arsenal down to earth,,,,,\\r\\n20030221,kenya awarded points for kiwi call off,,,,,\\r\\n20030221,kylie minogues posterior is hit of the brits,,,,,\\r\\n20030221,land council dismissed administrator appointed,,,,,\\r\\n20030221,langer named one day player of year,,,,,\\r\\n20030221,liverpool win but lazio held by krakow,,,,,\\r\\n20030221,llewellyn not impressed by patterson so show,,,,,\\r\\n20030221,longreach water restrictions to remain,,,,,\\r\\n20030221,loose cannon afridi set for pakistan against,,,,,\\r\\n20030221,lovenkrands dreaming of hampden return,,,,,\\r\\n20030221,low water sparks boat ban for lake albert,,,,,\\r\\n20030221,male dna found on body of murdered schoolgirl,,,,,\\r\\n20030221,man accused of selling bali bomb chemicals goes on,,,,,\\r\\n20030221,man appears in court charged with stuttle murder,,,,,\\r\\n20030221,man charged with stuttle murder,,,,,\\r\\n20030221,man fails to overturn conviction over 1600yo bell,,,,,\\r\\n20030221,man in hospital after receiving severe electric,,,,,\\r\\n20030221,man in hospital after stabbing,,,,,\\r\\n20030221,man jailed for fatally stabbing ex de facto,,,,,\\r\\n20030221,man jailed for life over axe murder,,,,,\\r\\n20030221,man to be re questioned over stuttle murder,,,,,\\r\\n20030221,man to face court over fatal hit and run,,,,,\\r\\n20030221,man u agreed deal with eriksson ferguson,,,,,\\r\\n20030221,man who threatened melbourne water supply bailed,,,,,\\r\\n20030221,map highlights potential river salinity problems,,,,,\\r\\n20030221,mayor angry over mural vandalism,,,,,\\r\\n20030221,mining giant calls for funding boost for native,,,,,\\r\\n20030221,montgomery enters us indoor nationals,,,,,\\r\\n20030221,more rain may delay tougher water restrictions,,,,,\\r\\n20030221,more us troops to help hunt abu sayyaf rebels,,,,,\\r\\n20030221,mp wants tank battalion rumours investigated,,,,,\\r\\n20030221,mp welcomes police station announcement,,,,,\\r\\n20030221,nardell mine closes as receiver appointed,,,,,\\r\\n20030221,nauru appeals for help to keep nations airline,,,,,\\r\\n20030221,new battle of britain looming in uefa cup,,,,,\\r\\n20030221,newcastle city notch wins stallions draw with south,,,,,\\r\\n20030221,new commercial mud crabbing restrictions planned,,,,,\\r\\n20030221,new disability respite service,,,,,\\r\\n20030221,n korea ducks nuclear talk at nam summit,,,,,\\r\\n20030221,n korea warns it wont beg for peace,,,,,\\r\\n20030221,no cost blowouts forecast for water treatment plan,,,,,\\r\\n20030221,nsw coroner clears docs over death of toddler,,,,,\\r\\n20030221,nsw graziers record heavy rainfall,,,,,\\r\\n20030221,nsw opps drug free prison plan not new amery,,,,,\\r\\n20030221,nursing home worker suspended,,,,,\\r\\n20030221,olonga sacked by his club,,,,,\\r\\n20030221,one million tickets sold for rugby world cup,,,,,\\r\\n20030221,otago open super 12 with a win,,,,,\\r\\n20030221,owners hesitant over northerlys overseas jaunt,,,,,\\r\\n20030221,pair face court over machete attack,,,,,\\r\\n20030221,palestinian killed at gaza strip crossing point,,,,,\\r\\n20030221,patterson irresponsible with no show edmond,,,,,\\r\\n20030221,patterson no show childish wa minister,,,,,\\r\\n20030221,patterson says health meeting a waste of time,,,,,\\r\\n20030221,petrol prices on the rise,,,,,\\r\\n20030221,petrol will hit 120 if war breaks out ssa,,,,,\\r\\n20030221,plan may include puckapunyal roo cull,,,,,\\r\\n20030221,planning for intersection revamp begins,,,,,\\r\\n20030221,pm accuses european countries of encouraging saddam,,,,,\\r\\n20030221,pm defends protest comments,,,,,\\r\\n20030221,pm has no choice but to stay on through iraq,,,,,\\r\\n20030221,pm praises costello over leadership patience,,,,,\\r\\n20030221,png governor general urges election unity,,,,,\\r\\n20030221,police charge man over stabbing,,,,,\\r\\n20030221,police continue investigating cannabis crops,,,,,\\r\\n20030221,police stations face uncertainty,,,,,\\r\\n20030221,powell calls on un to uphold responsibilities over,,,,,\\r\\n20030221,push likely to seek more aged care workers,,,,,\\r\\n20030221,push to extend fraser is world heritage listing,,,,,\\r\\n20030221,qantas plane makes emergency landing,,,,,\\r\\n20030221,qantas says it has no info as prime terrorist,,,,,\\r\\n20030221,qantas urged to update security in shadow of,,,,,\\r\\n20030221,qld govt rejects land acquisition claims,,,,,\\r\\n20030221,racv not surprised by petrol rationing talk,,,,,\\r\\n20030221,rail firm to assess workers needs,,,,,\\r\\n20030221,rain brings stock losses,,,,,\\r\\n20030221,rain causes chaos on melbourne roads,,,,,\\r\\n20030221,rain expected to continue across act,,,,,\\r\\n20030221,rainfall likely to clear on weekend,,,,,\\r\\n20030221,rain in nsw a welcome relief but drought not over,,,,,\\r\\n20030221,rain not enough to be drought breaking,,,,,\\r\\n20030221,rain offers water supply boost,,,,,\\r\\n20030221,rejuvenated tyson cured by cash injection,,,,,\\r\\n20030221,residents get fire assurances,,,,,\\r\\n20030221,retail sector airs trading hours review concerns,,,,,\\r\\n20030221,romario jeered teams brawl as fluminense held,,,,,\\r\\n20030221,round the world in no forget it,,,,,\\r\\n20030221,ruddock commends australias traveller controls,,,,,\\r\\n20030221,salinity experts map water catchments,,,,,\\r\\n20030221,sa nt to lose seats in federal parliament,,,,,\\r\\n20030221,sas soldier charged with misconduct while in e,,,,,\\r\\n20030221,schumacher seeks more speed from less noise,,,,,\\r\\n20030221,seaman set for ajax match,,,,,\\r\\n20030221,search for better life pays off,,,,,\\r\\n20030221,second us nightclub fire kills 10,,,,,\\r\\n20030221,senators offer input into coast issues,,,,,\\r\\n20030221,several dead in fire at rhode island nightclub,,,,,\\r\\n20030221,shire says planning policy not compromised,,,,,\\r\\n20030221,slapping paedophile to have arm amputated,,,,,\\r\\n20030221,state territory health ministers arrive for meeting,,,,,\\r\\n20030221,stolen wage report looks to improve indigenous,,,,,\\r\\n20030221,strike expected to mean milk shortages,,,,,\\r\\n20030221,strike may disrupt nsw milk supply,,,,,\\r\\n20030221,study considers alternative crops for sugar regions,,,,,\\r\\n20030221,study to probe snowy motorcycle crashes,,,,,\\r\\n20030221,teachers shortage set to get worse report,,,,,\\r\\n20030221,team mates send best wishes to warne,,,,,\\r\\n20030221,telstra chief embarrassed with 1 billion writedown,,,,,\\r\\n20030221,telstra punished after massive hong kong write down,,,,,\\r\\n20030221,telstra still hurting from hk joint venture,,,,,\\r\\n20030221,thieves target esperance cars,,,,,\\r\\n20030221,timor sea treaty will be ratfied shortly martin,,,,,\\r\\n20030221,troubled torino praying for a miracle,,,,,\\r\\n20030221,tuckey laments gungahlin drive planning problems,,,,,\\r\\n20030221,turkey delays vote on us troops,,,,,\\r\\n20030221,turkey digs heels in us lobbies for support for,,,,,\\r\\n20030221,turkey forces us to weigh up strategies,,,,,\\r\\n20030221,union condemns qantass contract labour plan,,,,,\\r\\n20030221,us asks indonesia to improve human rights record,,,,,\\r\\n20030221,us boost troop numbers in philippines,,,,,\\r\\n20030221,us chiropractor to address gold coast gathering,,,,,\\r\\n20030221,us intelligence analyst found guilty of spying,,,,,\\r\\n20030221,usq researchers prepare for move,,,,,\\r\\n20030221,valencia sense victory in benitez v benitez,,,,,\\r\\n20030221,vic govt gets farmers drought update,,,,,\\r\\n20030221,victorian farmers hope rain will break drought,,,,,\\r\\n20030221,victoria welcomes rain relief,,,,,\\r\\n20030221,vinnicombe rejects mps freeway claims,,,,,\\r\\n20030221,waratahs go down in super 12 opener,,,,,\\r\\n20030221,war impact on exercise unknown,,,,,\\r\\n20030221,warne decision to be made saturday,,,,,\\r\\n20030221,warne dope hearing underway,,,,,\\r\\n20030221,williams and mclaren plan to take fia to court,,,,,\\r\\n20030221,wine and avocados drive mutton and wool off nz,,,,,\\r\\n20030221,wisla hold lazio in six goal thriller,,,,,\\r\\n20030221,woodgate told to stay away from elland road,,,,,\\r\\n20030221,workers return to work on burrup,,,,,\\r\\n20030221,youth group unhappy with appeal for carers,,,,,\\r\\n20030222,86 confirmed dead after us nightclub fire,,,,,\\r\\n20030222,act tourist attractions honoured at awards night,,,,,\\r\\n20030222,adelaide break port hearts,,,,,\\r\\n20030222,al qaeda members jailed for us uk terrorist plots,,,,,\\r\\n20030222,arafats number two outlines proposed ceasefire,,,,,\\r\\n20030222,athens risks turning into games disaster ioc,,,,,\\r\\n20030222,australia urged to abandon zimbabwe world cu,,,,,'}"
            ]
          },
          "metadata": {
            "tags": []
          },
          "execution_count": 16
        }
      ]
    },
    {
      "cell_type": "code",
      "metadata": {
        "colab": {
          "base_uri": "https://localhost:8080/",
          "height": 204
        },
        "id": "BAXJPZZAkDjF",
        "outputId": "849b70f6-0ea2-443a-89b2-d976d75720df"
      },
      "source": [
        "import pandas as pd\n",
        "data=pd.read_csv('/content/lda_data.csv')\n",
        "data.head()"
      ],
      "execution_count": 17,
      "outputs": [
        {
          "output_type": "execute_result",
          "data": {
            "text/html": [
              "<div>\n",
              "<style scoped>\n",
              "    .dataframe tbody tr th:only-of-type {\n",
              "        vertical-align: middle;\n",
              "    }\n",
              "\n",
              "    .dataframe tbody tr th {\n",
              "        vertical-align: top;\n",
              "    }\n",
              "\n",
              "    .dataframe thead th {\n",
              "        text-align: right;\n",
              "    }\n",
              "</style>\n",
              "<table border=\"1\" class=\"dataframe\">\n",
              "  <thead>\n",
              "    <tr style=\"text-align: right;\">\n",
              "      <th></th>\n",
              "      <th>publish_date</th>\n",
              "      <th>headline_text</th>\n",
              "      <th>Unnamed: 2</th>\n",
              "      <th>Unnamed: 3</th>\n",
              "      <th>Unnamed: 4</th>\n",
              "      <th>Unnamed: 5</th>\n",
              "      <th>Unnamed: 6</th>\n",
              "    </tr>\n",
              "  </thead>\n",
              "  <tbody>\n",
              "    <tr>\n",
              "      <th>0</th>\n",
              "      <td>20030219</td>\n",
              "      <td>aba decides against community broadcasting lic...</td>\n",
              "      <td>NaN</td>\n",
              "      <td>NaN</td>\n",
              "      <td>NaN</td>\n",
              "      <td>NaN</td>\n",
              "      <td>NaN</td>\n",
              "    </tr>\n",
              "    <tr>\n",
              "      <th>1</th>\n",
              "      <td>20030219</td>\n",
              "      <td>act fire witnesses must be aware of defamation</td>\n",
              "      <td>NaN</td>\n",
              "      <td>NaN</td>\n",
              "      <td>NaN</td>\n",
              "      <td>NaN</td>\n",
              "      <td>NaN</td>\n",
              "    </tr>\n",
              "    <tr>\n",
              "      <th>2</th>\n",
              "      <td>20030219</td>\n",
              "      <td>a g calls for infrastructure protection summit</td>\n",
              "      <td>NaN</td>\n",
              "      <td>NaN</td>\n",
              "      <td>NaN</td>\n",
              "      <td>NaN</td>\n",
              "      <td>NaN</td>\n",
              "    </tr>\n",
              "    <tr>\n",
              "      <th>3</th>\n",
              "      <td>20030219</td>\n",
              "      <td>air nz staff in aust strike for pay rise</td>\n",
              "      <td>NaN</td>\n",
              "      <td>NaN</td>\n",
              "      <td>NaN</td>\n",
              "      <td>NaN</td>\n",
              "      <td>NaN</td>\n",
              "    </tr>\n",
              "    <tr>\n",
              "      <th>4</th>\n",
              "      <td>20030219</td>\n",
              "      <td>air nz strike to affect australian travellers</td>\n",
              "      <td>NaN</td>\n",
              "      <td>NaN</td>\n",
              "      <td>NaN</td>\n",
              "      <td>NaN</td>\n",
              "      <td>NaN</td>\n",
              "    </tr>\n",
              "  </tbody>\n",
              "</table>\n",
              "</div>"
            ],
            "text/plain": [
              "   publish_date  ... Unnamed: 6\n",
              "0      20030219  ...        NaN\n",
              "1      20030219  ...        NaN\n",
              "2      20030219  ...        NaN\n",
              "3      20030219  ...        NaN\n",
              "4      20030219  ...        NaN\n",
              "\n",
              "[5 rows x 7 columns]"
            ]
          },
          "metadata": {
            "tags": []
          },
          "execution_count": 17
        }
      ]
    },
    {
      "cell_type": "code",
      "metadata": {
        "colab": {
          "base_uri": "https://localhost:8080/",
          "height": 35
        },
        "id": "_CrOiYG1k0OE",
        "outputId": "8058ef9e-73ef-4af2-cf25-d536676e13e7"
      },
      "source": [
        "data['headline_text'][20]"
      ],
      "execution_count": 18,
      "outputs": [
        {
          "output_type": "execute_result",
          "data": {
            "application/vnd.google.colaboratory.intrinsic+json": {
              "type": "string"
            },
            "text/plain": [
              "'businesses should prepare for terrorist attacks'"
            ]
          },
          "metadata": {
            "tags": []
          },
          "execution_count": 18
        }
      ]
    },
    {
      "cell_type": "code",
      "metadata": {
        "id": "S3Cg4xcKoRKt"
      },
      "source": [
        "from sklearn.feature_extraction.text import CountVectorizer\n",
        "count_vect = CountVectorizer(max_df=0.8, min_df=2, stop_words='english')\n",
        "doc_term_matrix = count_vect.fit_transform(data['headline_text'].values.astype('U'))"
      ],
      "execution_count": 21,
      "outputs": []
    },
    {
      "cell_type": "code",
      "metadata": {
        "colab": {
          "base_uri": "https://localhost:8080/"
        },
        "id": "pJLyQcjToYnM",
        "outputId": "775d8063-e162-46f6-e62f-470f3c542c45"
      },
      "source": [
        "doc_term_matrix"
      ],
      "execution_count": 22,
      "outputs": [
        {
          "output_type": "execute_result",
          "data": {
            "text/plain": [
              "<705x642 sparse matrix of type '<class 'numpy.int64'>'\n",
              "\twith 2167 stored elements in Compressed Sparse Row format>"
            ]
          },
          "metadata": {
            "tags": []
          },
          "execution_count": 22
        }
      ]
    },
    {
      "cell_type": "code",
      "metadata": {
        "colab": {
          "base_uri": "https://localhost:8080/"
        },
        "id": "-9q4t_Pbo77Z",
        "outputId": "210ad1fb-3cd4-407e-a70e-283df51b2b0f"
      },
      "source": [
        "from sklearn.decomposition import LatentDirichletAllocation\n",
        "\n",
        "LDA = LatentDirichletAllocation(n_components=5, random_state=42)\n",
        "LDA.fit(doc_term_matrix)"
      ],
      "execution_count": 23,
      "outputs": [
        {
          "output_type": "execute_result",
          "data": {
            "text/plain": [
              "LatentDirichletAllocation(batch_size=128, doc_topic_prior=None,\n",
              "                          evaluate_every=-1, learning_decay=0.7,\n",
              "                          learning_method='batch', learning_offset=10.0,\n",
              "                          max_doc_update_iter=100, max_iter=10,\n",
              "                          mean_change_tol=0.001, n_components=5, n_jobs=None,\n",
              "                          perp_tol=0.1, random_state=42, topic_word_prior=None,\n",
              "                          total_samples=1000000.0, verbose=0)"
            ]
          },
          "metadata": {
            "tags": []
          },
          "execution_count": 23
        }
      ]
    },
    {
      "cell_type": "code",
      "metadata": {
        "colab": {
          "base_uri": "https://localhost:8080/"
        },
        "id": "980esCjPpNs3",
        "outputId": "48b33338-e47a-4526-fe0d-c4c4e11d7890"
      },
      "source": [
        "count_vect.get_feature_names()"
      ],
      "execution_count": 24,
      "outputs": [
        {
          "output_type": "execute_result",
          "data": {
            "text/plain": [
              "['10',\n",
              " '11',\n",
              " '12',\n",
              " '50m',\n",
              " 'abandon',\n",
              " 'aboriginal',\n",
              " 'abs',\n",
              " 'accused',\n",
              " 'accuses',\n",
              " 'act',\n",
              " 'action',\n",
              " 'adelaide',\n",
              " 'administrator',\n",
              " 'aec',\n",
              " 'affect',\n",
              " 'agreement',\n",
              " 'ahead',\n",
              " 'aid',\n",
              " 'air',\n",
              " 'aires',\n",
              " 'airport',\n",
              " 'airs',\n",
              " 'ajax',\n",
              " 'al',\n",
              " 'alcohol',\n",
              " 'allan',\n",
              " 'alleged',\n",
              " 'allocated',\n",
              " 'alternative',\n",
              " 'ama',\n",
              " 'ambulance',\n",
              " 'americas',\n",
              " 'anger',\n",
              " 'angry',\n",
              " 'announced',\n",
              " 'anti',\n",
              " 'anz',\n",
              " 'appeal',\n",
              " 'appointed',\n",
              " 'areas',\n",
              " 'arrested',\n",
              " 'arsenal',\n",
              " 'assess',\n",
              " 'assurances',\n",
              " 'asylum',\n",
              " 'attack',\n",
              " 'attend',\n",
              " 'aussie',\n",
              " 'aust',\n",
              " 'australia',\n",
              " 'australian',\n",
              " 'avoid',\n",
              " 'awaits',\n",
              " 'awards',\n",
              " 'aware',\n",
              " 'away',\n",
              " 'backs',\n",
              " 'bad',\n",
              " 'ban',\n",
              " 'bank',\n",
              " 'barca',\n",
              " 'battle',\n",
              " 'bay',\n",
              " 'beckham',\n",
              " 'begin',\n",
              " 'begins',\n",
              " 'bell',\n",
              " 'bid',\n",
              " 'big',\n",
              " 'bilby',\n",
              " 'birthday',\n",
              " 'boat',\n",
              " 'bombing',\n",
              " 'boost',\n",
              " 'boosts',\n",
              " 'bowling',\n",
              " 'brawl',\n",
              " 'break',\n",
              " 'breaking',\n",
              " 'bring',\n",
              " 'brings',\n",
              " 'brisbane',\n",
              " 'britain',\n",
              " 'british',\n",
              " 'brothel',\n",
              " 'buenos',\n",
              " 'building',\n",
              " 'bushfire',\n",
              " 'bushfires',\n",
              " 'business',\n",
              " 'cairns',\n",
              " 'calls',\n",
              " 'campaign',\n",
              " 'cannabis',\n",
              " 'canola',\n",
              " 'cars',\n",
              " 'case',\n",
              " 'cash',\n",
              " 'causing',\n",
              " 'celebrates',\n",
              " 'celts',\n",
              " 'central',\n",
              " 'centre',\n",
              " 'centrelink',\n",
              " 'change',\n",
              " 'changes',\n",
              " 'charge',\n",
              " 'charged',\n",
              " 'charges',\n",
              " 'chemical',\n",
              " 'chief',\n",
              " 'child',\n",
              " 'christmas',\n",
              " 'church',\n",
              " 'claim',\n",
              " 'claims',\n",
              " 'clash',\n",
              " 'class',\n",
              " 'clear',\n",
              " 'climb',\n",
              " 'closes',\n",
              " 'club',\n",
              " 'coach',\n",
              " 'coalition',\n",
              " 'coast',\n",
              " 'code',\n",
              " 'comeback',\n",
              " 'community',\n",
              " 'compo',\n",
              " 'concerns',\n",
              " 'confidence',\n",
              " 'consider',\n",
              " 'considers',\n",
              " 'contain',\n",
              " 'continue',\n",
              " 'continues',\n",
              " 'conviction',\n",
              " 'coronial',\n",
              " 'cost',\n",
              " 'costello',\n",
              " 'costs',\n",
              " 'council',\n",
              " 'country',\n",
              " 'court',\n",
              " 'crash',\n",
              " 'crashes',\n",
              " 'crean',\n",
              " 'crews',\n",
              " 'crime',\n",
              " 'crisis',\n",
              " 'criticism',\n",
              " 'crop',\n",
              " 'crops',\n",
              " 'cup',\n",
              " 'cut',\n",
              " 'cuts',\n",
              " 'danger',\n",
              " 'date',\n",
              " 'day',\n",
              " 'days',\n",
              " 'dead',\n",
              " 'deal',\n",
              " 'death',\n",
              " 'debate',\n",
              " 'decision',\n",
              " 'defamation',\n",
              " 'defeat',\n",
              " 'defend',\n",
              " 'defends',\n",
              " 'delayed',\n",
              " 'denies',\n",
              " 'deportivo',\n",
              " 'deposits',\n",
              " 'detention',\n",
              " 'development',\n",
              " 'disaster',\n",
              " 'discussion',\n",
              " 'dismisses',\n",
              " 'downer',\n",
              " 'downpour',\n",
              " 'downs',\n",
              " 'draw',\n",
              " 'draws',\n",
              " 'drink',\n",
              " 'drinking',\n",
              " 'drive',\n",
              " 'driver',\n",
              " 'drought',\n",
              " 'drug',\n",
              " 'economy',\n",
              " 'education',\n",
              " 'election',\n",
              " 'embassy',\n",
              " 'emergency',\n",
              " 'end',\n",
              " 'ends',\n",
              " 'england',\n",
              " 'epa',\n",
              " 'esso',\n",
              " 'ethanol',\n",
              " 'expected',\n",
              " 'face',\n",
              " 'fails',\n",
              " 'family',\n",
              " 'fans',\n",
              " 'farmers',\n",
              " 'fatal',\n",
              " 'fate',\n",
              " 'fears',\n",
              " 'fed',\n",
              " 'federal',\n",
              " 'ferguson',\n",
              " 'field',\n",
              " 'fight',\n",
              " 'fine',\n",
              " 'fined',\n",
              " 'firefighters',\n",
              " 'firm',\n",
              " 'fishing',\n",
              " 'fixed',\n",
              " 'flak',\n",
              " 'flight',\n",
              " 'flooding',\n",
              " 'focus',\n",
              " 'force',\n",
              " 'forces',\n",
              " 'forest',\n",
              " 'forum',\n",
              " 'fuel',\n",
              " 'funding',\n",
              " 'funds',\n",
              " 'future',\n",
              " 'ganguly',\n",
              " 'gas',\n",
              " 'gaza',\n",
              " 'general',\n",
              " 'gets',\n",
              " 'gives',\n",
              " 'gm',\n",
              " 'goal',\n",
              " 'gold',\n",
              " 'good',\n",
              " 'govt',\n",
              " 'granted',\n",
              " 'greens',\n",
              " 'group',\n",
              " 'grows',\n",
              " 'growth',\n",
              " 'guilty',\n",
              " 'hands',\n",
              " 'hanson',\n",
              " 'head',\n",
              " 'health',\n",
              " 'hearing',\n",
              " 'heavy',\n",
              " 'held',\n",
              " 'help',\n",
              " 'heritage',\n",
              " 'high',\n",
              " 'highlights',\n",
              " 'highway',\n",
              " 'hijack',\n",
              " 'hiring',\n",
              " 'hit',\n",
              " 'hold',\n",
              " 'home',\n",
              " 'honoured',\n",
              " 'hope',\n",
              " 'hospital',\n",
              " 'house',\n",
              " 'howard',\n",
              " 'human',\n",
              " 'immigration',\n",
              " 'impact',\n",
              " 'improve',\n",
              " 'incident',\n",
              " 'include',\n",
              " 'india',\n",
              " 'indian',\n",
              " 'indigenous',\n",
              " 'indonesia',\n",
              " 'industry',\n",
              " 'injured',\n",
              " 'injuries',\n",
              " 'inquiry',\n",
              " 'insurance',\n",
              " 'intake',\n",
              " 'investigation',\n",
              " 'investigations',\n",
              " 'iran',\n",
              " 'iraq',\n",
              " 'iraqi',\n",
              " 'ireland',\n",
              " 'island',\n",
              " 'issues',\n",
              " 'jail',\n",
              " 'jailed',\n",
              " 'japanese',\n",
              " 'jeered',\n",
              " 'job',\n",
              " 'jobs',\n",
              " 'join',\n",
              " 'kelly',\n",
              " 'kembla',\n",
              " 'kenya',\n",
              " 'killed',\n",
              " 'kills',\n",
              " 'kiwi',\n",
              " 'korea',\n",
              " 'korean',\n",
              " 'kuwait',\n",
              " 'ladies',\n",
              " 'laments',\n",
              " 'land',\n",
              " 'landing',\n",
              " 'launched',\n",
              " 'lawyers',\n",
              " 'lazio',\n",
              " 'leadership',\n",
              " 'leads',\n",
              " 'leave',\n",
              " 'leaves',\n",
              " 'levy',\n",
              " 'licence',\n",
              " 'life',\n",
              " 'light',\n",
              " 'likely',\n",
              " 'list',\n",
              " 'live',\n",
              " 'liverpool',\n",
              " 'longford',\n",
              " 'lose',\n",
              " 'loses',\n",
              " 'losing',\n",
              " 'loss',\n",
              " 'losses',\n",
              " 'low',\n",
              " 'm5',\n",
              " 'make',\n",
              " 'makes',\n",
              " 'man',\n",
              " 'management',\n",
              " 'mans',\n",
              " 'map',\n",
              " 'march',\n",
              " 'maroney',\n",
              " 'martin',\n",
              " 'massive',\n",
              " 'masters',\n",
              " 'match',\n",
              " 'mayor',\n",
              " 'meet',\n",
              " 'meeting',\n",
              " 'melbourne',\n",
              " 'members',\n",
              " 'memphis',\n",
              " 'military',\n",
              " 'milk',\n",
              " 'million',\n",
              " 'minister',\n",
              " 'miss',\n",
              " 'missing',\n",
              " 'months',\n",
              " 'moves',\n",
              " 'mp',\n",
              " 'mud',\n",
              " 'mugabe',\n",
              " 'murder',\n",
              " 'murray',\n",
              " 'nation',\n",
              " 'national',\n",
              " 'nationals',\n",
              " 'native',\n",
              " 'nato',\n",
              " 'nats',\n",
              " 'needs',\n",
              " 'new',\n",
              " 'newcastle',\n",
              " 'nightclub',\n",
              " 'northern',\n",
              " 'nsw',\n",
              " 'nt',\n",
              " 'nth',\n",
              " 'nuclear',\n",
              " 'number',\n",
              " 'nursing',\n",
              " 'nz',\n",
              " 'offer',\n",
              " 'offers',\n",
              " 'office',\n",
              " 'oil',\n",
              " 'old',\n",
              " 'olonga',\n",
              " 'open',\n",
              " 'opp',\n",
              " 'opposition',\n",
              " 'order',\n",
              " 'ords',\n",
              " 'organ',\n",
              " 'overseas',\n",
              " 'owner',\n",
              " 'pair',\n",
              " 'pakistani',\n",
              " 'park',\n",
              " 'parliament',\n",
              " 'parliamentary',\n",
              " 'patterson',\n",
              " 'pay',\n",
              " 'pays',\n",
              " 'peace',\n",
              " 'pension',\n",
              " 'petrol',\n",
              " 'philippines',\n",
              " 'phone',\n",
              " 'pile',\n",
              " 'plan',\n",
              " 'plane',\n",
              " 'planned',\n",
              " 'planning',\n",
              " 'plans',\n",
              " 'plant',\n",
              " 'plantation',\n",
              " 'players',\n",
              " 'pm',\n",
              " 'png',\n",
              " 'point',\n",
              " 'police',\n",
              " 'policy',\n",
              " 'politicians',\n",
              " 'port',\n",
              " 'posts',\n",
              " 'potential',\n",
              " 'powell',\n",
              " 'pre',\n",
              " 'predicted',\n",
              " 'premier',\n",
              " 'prepare',\n",
              " 'president',\n",
              " 'price',\n",
              " 'prices',\n",
              " 'probe',\n",
              " 'probes',\n",
              " 'problems',\n",
              " 'profit',\n",
              " 'program',\n",
              " 'project',\n",
              " 'protect',\n",
              " 'protected',\n",
              " 'protection',\n",
              " 'protest',\n",
              " 'protesters',\n",
              " 'public',\n",
              " 'publics',\n",
              " 'push',\n",
              " 'puts',\n",
              " 'qaeda',\n",
              " 'qantas',\n",
              " 'qld',\n",
              " 'questioned',\n",
              " 'quits',\n",
              " 'race',\n",
              " 'racing',\n",
              " 'radioactive',\n",
              " 'raid',\n",
              " 'raids',\n",
              " 'rain',\n",
              " 'rainfall',\n",
              " 'rate',\n",
              " 'ready',\n",
              " 'receive',\n",
              " 'record',\n",
              " 'records',\n",
              " 'recover',\n",
              " 'rejects',\n",
              " 'relief',\n",
              " 'remain',\n",
              " 'remains',\n",
              " 'report',\n",
              " 'reports',\n",
              " 'residents',\n",
              " 'respite',\n",
              " 'restrictions',\n",
              " 'result',\n",
              " 'retail',\n",
              " 'return',\n",
              " 'revealed',\n",
              " 'review',\n",
              " 'rhode',\n",
              " 'rice',\n",
              " 'rights',\n",
              " 'rise',\n",
              " 'risk',\n",
              " 'river',\n",
              " 'road',\n",
              " 'roads',\n",
              " 'roll',\n",
              " 'rule',\n",
              " 'ruling',\n",
              " 'running',\n",
              " 'sa',\n",
              " 'sacking',\n",
              " 'safety',\n",
              " 'salinity',\n",
              " 'saudi',\n",
              " 'says',\n",
              " 'scare',\n",
              " 'scientists',\n",
              " 'scrap',\n",
              " 'seaman',\n",
              " 'search',\n",
              " 'seat',\n",
              " 'second',\n",
              " 'security',\n",
              " 'seek',\n",
              " 'seeks',\n",
              " 'sentenced',\n",
              " 'sept',\n",
              " 'service',\n",
              " 'set',\n",
              " 'sex',\n",
              " 'shadow',\n",
              " 'shire',\n",
              " 'shortly',\n",
              " 'shut',\n",
              " 'smash',\n",
              " 'smoking',\n",
              " 'socceroos',\n",
              " 'soldiers',\n",
              " 'soon',\n",
              " 'sought',\n",
              " 'speaks',\n",
              " 'spill',\n",
              " 'stabbing',\n",
              " 'staff',\n",
              " 'stand',\n",
              " 'states',\n",
              " 'station',\n",
              " 'stations',\n",
              " 'stay',\n",
              " 'sth',\n",
              " 'stock',\n",
              " 'stolen',\n",
              " 'stone',\n",
              " 'strike',\n",
              " 'strip',\n",
              " 'students',\n",
              " 'study',\n",
              " 'stuttle',\n",
              " 'subway',\n",
              " 'sugar',\n",
              " 'summit',\n",
              " 'super',\n",
              " 'supply',\n",
              " 'support',\n",
              " 'surprised',\n",
              " 'swiss',\n",
              " 'taipans',\n",
              " 'takes',\n",
              " 'talk',\n",
              " 'talks',\n",
              " 'target',\n",
              " 'tas',\n",
              " 'tax',\n",
              " 'teachers',\n",
              " 'tells',\n",
              " 'telstra',\n",
              " 'tent',\n",
              " 'territory',\n",
              " 'terror',\n",
              " 'terrorist',\n",
              " 'thousands',\n",
              " 'thriller',\n",
              " 'time',\n",
              " 'times',\n",
              " 'toddler',\n",
              " 'told',\n",
              " 'toll',\n",
              " 'tough',\n",
              " 'tourism',\n",
              " 'tourist',\n",
              " 'transsexual',\n",
              " 'tree',\n",
              " 'trial',\n",
              " 'triathletes',\n",
              " 'trip',\n",
              " 'troop',\n",
              " 'troops',\n",
              " 'turkey',\n",
              " 'tv',\n",
              " 'tyson',\n",
              " 'uefa',\n",
              " 'underway',\n",
              " 'unhappy',\n",
              " 'uni',\n",
              " 'union',\n",
              " 'unions',\n",
              " 'united',\n",
              " 'unlikely',\n",
              " 'update',\n",
              " 'upset',\n",
              " 'urged',\n",
              " 'urges',\n",
              " 'vandalism',\n",
              " 'verdict',\n",
              " 'vic',\n",
              " 'victims',\n",
              " 'victorian',\n",
              " 'victory',\n",
              " 'visit',\n",
              " 'vote',\n",
              " 'vows',\n",
              " 'wa',\n",
              " 'wage',\n",
              " 'wales',\n",
              " 'war',\n",
              " 'warne',\n",
              " 'warned',\n",
              " 'warns',\n",
              " 'water',\n",
              " 'weapons',\n",
              " 'webb',\n",
              " 'welcome',\n",
              " 'welcomes',\n",
              " 'west',\n",
              " 'western',\n",
              " 'wheatbelt',\n",
              " 'williams',\n",
              " 'win',\n",
              " 'wine',\n",
              " 'wins',\n",
              " 'woes',\n",
              " 'woman',\n",
              " 'women',\n",
              " 'wont',\n",
              " 'work',\n",
              " 'worker',\n",
              " 'workers',\n",
              " 'world',\n",
              " 'year',\n",
              " 'youth',\n",
              " 'zealand',\n",
              " 'zimbabwe']"
            ]
          },
          "metadata": {
            "tags": []
          },
          "execution_count": 24
        }
      ]
    },
    {
      "cell_type": "code",
      "metadata": {
        "colab": {
          "base_uri": "https://localhost:8080/"
        },
        "id": "CEvrHD8xpstx",
        "outputId": "a24e2df7-d4e8-4f8b-f951-9c8ce83e55b4"
      },
      "source": [
        "import random\n",
        "\n",
        "for i in range(10):\n",
        "    random_id = random.randint(0,len(count_vect.get_feature_names()))\n",
        "    #print(random_id)\n",
        "    print(count_vect.get_feature_names()[random_id])"
      ],
      "execution_count": 26,
      "outputs": [
        {
          "output_type": "stream",
          "text": [
            "firm\n",
            "assurances\n",
            "defends\n",
            "crean\n",
            "community\n",
            "rain\n",
            "low\n",
            "hope\n",
            "warned\n",
            "public\n"
          ],
          "name": "stdout"
        }
      ]
    },
    {
      "cell_type": "code",
      "metadata": {
        "id": "9BQ1Ee7YqGS3"
      },
      "source": [
        "first_topic = LDA.components_[0]"
      ],
      "execution_count": 27,
      "outputs": []
    },
    {
      "cell_type": "code",
      "metadata": {
        "colab": {
          "base_uri": "https://localhost:8080/"
        },
        "id": "5NlujYqsqY3p",
        "outputId": "d567ce0c-9541-4b59-a0cf-327fa756ee8f"
      },
      "source": [
        "first_topic"
      ],
      "execution_count": 28,
      "outputs": [
        {
          "output_type": "execute_result",
          "data": {
            "text/plain": [
              "array([ 1.19676401,  1.19944633,  0.20001254,  0.20001317,  0.2000261 ,\n",
              "        3.1996557 ,  0.2000164 ,  2.19994733,  0.20002354,  0.20002228,\n",
              "        0.20001493,  0.20001341,  0.20000759,  2.19997196,  0.20000674,\n",
              "        0.20001255,  1.19911563,  1.19491718,  1.19617941,  0.20001143,\n",
              "        0.2000134 ,  0.2005243 ,  0.20001197,  1.19774273,  0.20002526,\n",
              "        1.19953379,  0.20001525,  0.2000091 ,  0.20001418,  2.18433845,\n",
              "        0.20000682,  0.20000858,  0.20000631,  0.20001063,  0.20001603,\n",
              "        2.18319513,  0.20000819,  0.20001303,  0.20002488,  2.19995144,\n",
              "        1.20040829,  0.20049957,  1.2002746 ,  1.1940332 ,  1.19972666,\n",
              "        1.19667728,  1.20077687,  0.2000164 ,  0.20003405,  1.18853645,\n",
              "        0.20000787,  1.20117526,  1.20138149,  0.2000192 ,  0.20000792,\n",
              "        1.20096911,  0.20427777,  1.2014888 ,  0.2000172 ,  1.19984404,\n",
              "        0.20000859,  1.19951041,  1.20183198,  3.19478926,  0.20002426,\n",
              "        0.20001056,  0.20002739,  2.20019453,  0.20003119,  2.19989672,\n",
              "        0.20000857,  0.20001171,  2.19911245,  0.20000838,  0.20001543,\n",
              "        0.2000161 ,  0.20001713,  0.20003937,  0.20002326,  0.20002903,\n",
              "        0.20000902,  0.20002465,  0.2000149 ,  0.20088958,  0.20000905,\n",
              "        0.20001143,  0.20001644,  1.19755637,  0.20002749,  0.20001278,\n",
              "        0.20000911,  2.19492434,  1.19542479,  0.20087723,  0.20001228,\n",
              "        0.20002693,  1.19736733,  1.2013051 ,  1.19853007,  0.20000857,\n",
              "        2.19995033,  0.20002871,  1.19950003,  0.20001572,  0.2000246 ,\n",
              "        0.2000111 ,  1.19900743,  5.20522017,  2.20366702,  0.20001155,\n",
              "        0.20001548,  1.19922078,  0.20001538,  0.20002695,  4.13406196,\n",
              "        0.2003865 ,  1.19938808,  0.20000507,  1.19972739,  0.20001671,\n",
              "        0.20001105,  1.19057328,  0.20001195,  0.20001388,  6.21894205,\n",
              "        2.1988761 ,  0.2000227 ,  1.19829075,  2.20125304,  1.23683246,\n",
              "        1.20004293,  3.19995695,  0.20001519,  0.20000917,  0.20026671,\n",
              "        0.20002014,  0.20001368,  0.20001498,  0.20001618,  0.20002361,\n",
              "        1.19895257,  0.20001424,  0.20002782,  4.19769642,  0.20000871,\n",
              "        1.20002807,  1.18846052,  1.19983221,  0.20183872,  1.20087291,\n",
              "        0.20000533,  0.20001545,  1.08683475,  0.20002736,  1.19934442,\n",
              "        1.19796304,  1.1996716 ,  1.1975881 ,  0.20002804,  0.20001622,\n",
              "        4.19955796,  0.20874379,  1.21130864,  0.20002342,  1.19438037,\n",
              "        0.20001723,  0.20003755,  1.20001807,  2.20212031,  0.20002285,\n",
              "        1.20305006,  0.20003801,  0.20002199,  1.19895757,  0.20002784,\n",
              "        0.20003105,  0.20002395,  2.19856226,  0.20000613,  0.20001109,\n",
              "        0.2000086 ,  0.20001082,  1.20016856,  0.20002695,  1.19709096,\n",
              "        1.19919708,  1.19877643,  0.2000129 ,  1.19676868,  0.20003238,\n",
              "        0.20002018,  1.20027155,  4.19974217,  0.2000081 ,  0.20002868,\n",
              "        0.20000943,  2.19532681,  1.1994416 ,  0.20001509,  1.19470856,\n",
              "        0.20001055,  0.20094899,  0.20002167,  1.19955142,  0.20001956,\n",
              "        0.20000961,  0.20000829,  0.20001098,  1.20030989,  1.1982983 ,\n",
              "        5.17027528,  2.1985779 ,  0.20001622,  0.20001155,  0.20001457,\n",
              "        0.24100204,  0.20003042,  0.20001925,  0.20002895,  1.2000705 ,\n",
              "        1.20016856,  0.2000077 ,  0.2000136 ,  0.20001767,  0.20001519,\n",
              "        2.98271893,  2.19093197,  0.20002013,  0.20001042,  0.20002034,\n",
              "        0.20002568,  3.199948  ,  1.20033809,  1.19590931,  0.20002104,\n",
              "        1.20144866,  1.66971442,  1.19730315,  0.20001025,  0.20001197,\n",
              "        5.19950885,  0.20004204,  0.20182922,  2.19992515,  1.19869352,\n",
              "        1.19260125,  0.20000872,  0.20002395,  3.19992278,  1.19821368,\n",
              "        0.2000367 ,  1.18314848,  9.19884713,  0.20001178,  0.20001285,\n",
              "        0.20003275,  5.20341766,  0.2000254 ,  2.19877085,  0.20000768,\n",
              "        0.20000766,  0.20000952,  0.20000905,  0.20001675,  0.20002   ,\n",
              "        1.1964339 ,  0.200007  ,  0.20001457,  0.20049859,  2.20198761,\n",
              "        1.19639945,  0.20001328,  2.20609316,  0.20003027,  0.20001503,\n",
              "        0.20001144,  0.20001103,  1.20151665,  0.20002979,  0.20001224,\n",
              "        0.20001192,  1.19589927,  0.20059279,  1.20052537,  0.20001498,\n",
              "        0.20000905,  0.20001097,  0.20000924,  3.18052056,  2.20125977,\n",
              "        2.53152079,  0.20001199,  0.20002221,  1.19692063,  1.19595231,\n",
              "        1.19453099,  0.7465766 ,  2.1999682 ,  0.20002236,  0.20001386,\n",
              "        0.20000594,  0.20000705,  1.19974234,  0.20001158,  0.200026  ,\n",
              "        0.20001028,  0.20001641,  0.20002508,  0.20001682,  3.58920566,\n",
              "        0.20002013,  0.2000095 ,  0.20001336,  0.20000732,  0.2000081 ,\n",
              "        0.20001124,  1.19711805,  0.20001753,  0.20000834,  4.19992572,\n",
              "        0.20001521,  0.20002698,  0.20000682,  0.20003157,  1.01523053,\n",
              "        0.20001951,  2.20221313,  1.19985082,  1.1947771 ,  0.20002179,\n",
              "        1.1992559 ,  2.19927077,  0.20001103,  1.20040443,  1.19933286,\n",
              "        0.20002305,  3.20456289,  0.20001089,  0.20001797,  0.2000255 ,\n",
              "       16.3486158 ,  0.20001929,  0.20002406,  0.20001737,  0.20002861,\n",
              "        0.20001021,  2.19994756,  1.20077599,  0.20000903,  0.20001729,\n",
              "        0.20002414,  0.20000882,  3.69956278,  4.19599691,  1.19802753,\n",
              "        0.20002889,  0.20002621,  0.20002025,  0.20003327,  3.10100271,\n",
              "        0.20002236,  3.19689166,  1.20061747,  0.20001486,  0.20003   ,\n",
              "        0.20003457,  1.19511283,  8.21302463,  0.20001139,  0.20001877,\n",
              "        0.20001842,  0.20002034,  0.20002295,  1.19874374,  0.20003131,\n",
              "        0.20000813,  0.20195813,  0.20002343,  2.19913513,  0.20001077,\n",
              "        0.20079229,  4.16601625,  2.19997198,  2.19848603,  0.20002159,\n",
              "        0.20003148,  1.19523424,  1.19332997,  0.20001946,  0.20001554,\n",
              "        1.20011286,  0.20002395,  0.20002478,  0.20001513,  0.2000341 ,\n",
              "        2.19990004,  2.19992088,  0.20002514,  2.19887722,  0.20002159,\n",
              "        0.20000905,  0.20001946,  0.2000104 ,  0.20000849,  0.21900816,\n",
              "        1.20067163,  8.19948911,  1.19591325,  0.20002316,  2.20182489,\n",
              "        0.20002098,  3.21219327,  0.21710047,  1.20039093,  0.20001196,\n",
              "        0.20001989,  1.18685517,  0.20001856,  0.20003445,  1.19519225,\n",
              "        0.20002003,  0.20000902,  0.20001968,  2.19134254,  1.20145661,\n",
              "        0.20001795,  6.23112943,  0.20000857,  1.20031866,  0.20001066,\n",
              "        0.20001256,  0.20000768,  2.19994608,  0.20001877,  0.20001713,\n",
              "        0.2000075 ,  0.20002693,  2.19994344,  1.19974293,  2.20528234,\n",
              "        0.20000819,  0.20001233,  0.20000643,  0.20001734,  2.20600218,\n",
              "        2.19989672,  3.20474515,  0.20002623,  1.19917606,  0.20000689,\n",
              "        0.20000693,  0.20002783,  1.19986644,  2.19970251,  0.20002669,\n",
              "        1.19774273,  0.20245659,  0.20002303,  1.19967649,  0.20001021,\n",
              "        0.20000836,  0.2000172 ,  1.20118794,  7.19960748,  0.20003225,\n",
              "        0.20055342,  1.20048714,  0.20003019,  3.19987435,  0.20001364,\n",
              "        0.2000313 ,  0.2000104 ,  0.20000871,  0.20032034,  0.20000708,\n",
              "        0.20002071,  0.2000184 ,  0.20074339,  1.19975165,  0.20002459,\n",
              "        0.20002265,  0.20001996,  0.20000991,  0.20002163,  2.19988808,\n",
              "        0.200012  ,  0.20003284,  1.19961596,  0.2000254 ,  0.20001586,\n",
              "        1.19568387,  0.20003075,  1.19207736,  1.20027405,  0.20115162,\n",
              "        0.20002473,  2.20037876,  1.19821604,  0.20001182,  4.05907694,\n",
              "        0.20003251,  1.19922632,  0.20001737,  2.19054688,  0.20090758,\n",
              "        0.20002086,  0.20001152,  1.19897513,  0.20000925,  0.20003737,\n",
              "        3.19997325,  0.20002372,  1.19325213,  4.20381303,  0.20002164,\n",
              "        0.20001114,  1.19944633,  3.20596202,  0.20032172,  0.20001114,\n",
              "        0.20001819,  0.20002344,  1.19767458,  0.20000958,  0.20001773,\n",
              "        0.20001893,  0.20001631,  1.1996457 ,  0.20001739,  0.20002191,\n",
              "        1.19951551,  1.20173466,  0.20000948,  0.200006  ,  1.1996472 ,\n",
              "        1.2018526 ,  0.20000686,  2.1960042 ,  5.19994083,  0.20002183,\n",
              "        0.20002993,  0.20001835,  1.20034856,  0.20002547,  0.20001782,\n",
              "        1.20008695,  0.20002027,  3.1999685 ,  0.20074033,  0.20000691,\n",
              "        3.1990375 ,  0.20001254,  1.19468503,  2.20100591,  1.20096592,\n",
              "        1.19897444,  2.19994331,  0.20001909,  0.2000249 ,  0.20001104,\n",
              "        0.20001681,  2.42566448,  0.20001554,  2.19093145,  0.20119881,\n",
              "        0.20002793,  3.1996557 ,  0.20368755,  1.1989197 ,  0.20002066,\n",
              "        0.20002122,  0.20002012,  0.34725148,  0.20000933,  0.20001038,\n",
              "        1.20038171,  0.20045423,  0.20000906,  0.20877078,  1.19699443,\n",
              "        0.20000707,  0.20001731,  2.19136397,  2.19993342,  0.20001403,\n",
              "        0.20000962,  3.2046309 ,  5.20497616,  4.1984513 ,  0.20001626,\n",
              "        1.19929308,  0.20128103,  0.20002112,  0.20002051,  1.19845741,\n",
              "        0.20000674,  2.19993605,  0.20001003,  0.20000975,  0.20001342,\n",
              "        3.21695949,  1.1995285 ,  0.20001052,  2.19996785,  0.20002061,\n",
              "        0.2000176 ,  0.20000773,  3.19991922,  3.20374789,  0.20745416,\n",
              "        2.05429936,  4.20494451,  0.20002074,  0.20001736,  0.20014891,\n",
              "        0.20003697,  0.20001247,  0.20001682,  2.17016245,  0.2000152 ,\n",
              "        0.2000095 ,  0.20001782,  0.2000287 ,  0.20002922,  0.20000865,\n",
              "        0.20000868,  0.20001366,  3.19865342,  3.2060876 ,  0.20002753,\n",
              "        0.20000758,  2.19993445,  0.20003151,  1.19888249,  1.19420719,\n",
              "        1.20030092,  2.20186949,  0.20002748,  0.20001152,  1.19918026,\n",
              "        0.20000823,  0.20001745])"
            ]
          },
          "metadata": {
            "tags": []
          },
          "execution_count": 28
        }
      ]
    },
    {
      "cell_type": "code",
      "metadata": {
        "id": "fwF-eBHVqaeR"
      },
      "source": [
        "top_topic_words = first_topic.argsort()[-10:]"
      ],
      "execution_count": 29,
      "outputs": []
    },
    {
      "cell_type": "code",
      "metadata": {
        "colab": {
          "base_uri": "https://localhost:8080/"
        },
        "id": "LLYUWCsQqnBl",
        "outputId": "749c6a49-f189-41ef-8f3f-61625e78e4a4"
      },
      "source": [
        "top_topic_words"
      ],
      "execution_count": 30,
      "outputs": [
        {
          "output_type": "execute_result",
          "data": {
            "text/plain": [
              "array([256, 587, 107, 124, 426, 463, 406, 367, 252, 340])"
            ]
          },
          "metadata": {
            "tags": []
          },
          "execution_count": 30
        }
      ]
    },
    {
      "cell_type": "code",
      "metadata": {
        "colab": {
          "base_uri": "https://localhost:8080/"
        },
        "id": "Dtn600F3qo7z",
        "outputId": "83520588-9b6f-4e9a-d750-7ee33f83db72"
      },
      "source": [
        " for i in top_topic_words:\n",
        "    print(count_vect.get_feature_names()[i])"
      ],
      "execution_count": 31,
      "outputs": [
        {
          "output_type": "stream",
          "text": [
            "help\n",
            "turkey\n",
            "charged\n",
            "coast\n",
            "police\n",
            "raid\n",
            "patterson\n",
            "murder\n",
            "health\n",
            "man\n"
          ],
          "name": "stdout"
        }
      ]
    },
    {
      "cell_type": "code",
      "metadata": {
        "colab": {
          "base_uri": "https://localhost:8080/"
        },
        "id": "AqXBxUqeqzeu",
        "outputId": "ff83aabe-6363-4fda-f25c-e5452bdbbbd1"
      },
      "source": [
        "for i,topic in enumerate(LDA.components_):\n",
        "    print(f'Top 10 words for topic #{i}:')\n",
        "    print([count_vect.get_feature_names()[i] for i in topic.argsort()[-10:]])\n",
        "    print('\\n')"
      ],
      "execution_count": 32,
      "outputs": [
        {
          "output_type": "stream",
          "text": [
            "Top 10 words for topic #0:\n",
            "['help', 'turkey', 'charged', 'coast', 'police', 'raid', 'patterson', 'murder', 'health', 'man']\n",
            "\n",
            "\n",
            "Top 10 words for topic #1:\n",
            "['court', 'hospital', 'injured', 'race', 'record', 'iraq', 'expected', 'police', 'action', 'man']\n",
            "\n",
            "\n",
            "Top 10 words for topic #2:\n",
            "['planned', 'protesters', 'anti', 'police', 'hit', 'continue', 'pm', 'probe', 'new', 'war']\n",
            "\n",
            "\n",
            "Top 10 words for topic #3:\n",
            "['arsenal', 'claims', 'crash', 'report', 'boost', 'rejects', 'set', 'court', 'govt', 'council']\n",
            "\n",
            "\n",
            "Top 10 words for topic #4:\n",
            "['qantas', 'british', 'world', 'govt', 'says', 'funds', 'plan', 'rain', 'drought', 'nsw']\n",
            "\n",
            "\n"
          ],
          "name": "stdout"
        }
      ]
    },
    {
      "cell_type": "code",
      "metadata": {
        "colab": {
          "base_uri": "https://localhost:8080/"
        },
        "id": "c3deeuBErNgf",
        "outputId": "fca4dc1b-1695-40bc-c993-b2f5c5266cd8"
      },
      "source": [
        "topic_values = LDA.transform(doc_term_matrix)\n",
        "topic_values.shape"
      ],
      "execution_count": 33,
      "outputs": [
        {
          "output_type": "execute_result",
          "data": {
            "text/plain": [
              "(705, 5)"
            ]
          },
          "metadata": {
            "tags": []
          },
          "execution_count": 33
        }
      ]
    },
    {
      "cell_type": "code",
      "metadata": {
        "id": "futprBmCsWZT"
      },
      "source": [
        "data['Topic'] = topic_values.argmax(axis=1)"
      ],
      "execution_count": 34,
      "outputs": []
    },
    {
      "cell_type": "code",
      "metadata": {
        "id": "iL3yqPMRsef9"
      },
      "source": [
        "data.to_csv('with level.csv')"
      ],
      "execution_count": 36,
      "outputs": []
    },
    {
      "cell_type": "code",
      "metadata": {
        "colab": {
          "base_uri": "https://localhost:8080/"
        },
        "id": "Gi7KgLUhsnAO",
        "outputId": "8c6464af-dbc9-4bc4-af54-e63a7ad87d87"
      },
      "source": [
        "#nmf not negetive matrix factorization\n",
        "from sklearn.decomposition import NMF\n",
        "\n",
        "nmf = NMF(n_components=5, random_state=42)\n",
        "nmf.fit(doc_term_matrix )"
      ],
      "execution_count": 37,
      "outputs": [
        {
          "output_type": "execute_result",
          "data": {
            "text/plain": [
              "NMF(alpha=0.0, beta_loss='frobenius', init=None, l1_ratio=0.0, max_iter=200,\n",
              "    n_components=5, random_state=42, shuffle=False, solver='cd', tol=0.0001,\n",
              "    verbose=0)"
            ]
          },
          "metadata": {
            "tags": []
          },
          "execution_count": 37
        }
      ]
    },
    {
      "cell_type": "code",
      "metadata": {
        "colab": {
          "base_uri": "https://localhost:8080/"
        },
        "id": "tFIHTc0puDAg",
        "outputId": "4429c71c-3d2e-4f72-be2c-409e086b6079"
      },
      "source": [
        "from sklearn.feature_extraction.text import TfidfVectorizer\n",
        "\n",
        "tfidf_vect = TfidfVectorizer(max_df=0.8, min_df=2, stop_words='english')\n",
        "doc_term_matrix = tfidf_vect.fit_transform(data['headline_text'].values.astype('U'))\n",
        "\n",
        "import random\n",
        "\n",
        "for i in range(10):\n",
        "    random_id = random.randint(0,len(tfidf_vect.get_feature_names()))\n",
        "    print(tfidf_vect.get_feature_names()[random_id])"
      ],
      "execution_count": 42,
      "outputs": [
        {
          "output_type": "stream",
          "text": [
            "unlikely\n",
            "offers\n",
            "deposits\n",
            "landing\n",
            "attack\n",
            "greens\n",
            "retail\n",
            "wales\n",
            "driver\n",
            "aec\n"
          ],
          "name": "stdout"
        }
      ]
    },
    {
      "cell_type": "code",
      "metadata": {
        "id": "oL2P_Thvu_pU"
      },
      "source": [
        "first_topic = nmf.components_[0]\n",
        "top_topic_words = first_topic.argsort()[-10:]"
      ],
      "execution_count": 43,
      "outputs": []
    },
    {
      "cell_type": "code",
      "metadata": {
        "colab": {
          "base_uri": "https://localhost:8080/"
        },
        "id": "IOZXejlsuLZl",
        "outputId": "b8a9ca2e-2a3a-4869-fd55-eebe46ea50c1"
      },
      "source": [
        "for i in top_topic_words:\n",
        "    print(tfidf_vect.get_feature_names()[i])"
      ],
      "execution_count": 44,
      "outputs": [
        {
          "output_type": "stream",
          "text": [
            "hijack\n",
            "jailed\n",
            "plane\n",
            "stabbing\n",
            "stuttle\n",
            "face\n",
            "charged\n",
            "court\n",
            "murder\n",
            "man\n"
          ],
          "name": "stdout"
        }
      ]
    },
    {
      "cell_type": "code",
      "metadata": {
        "colab": {
          "base_uri": "https://localhost:8080/"
        },
        "id": "F4FMtwuLvEwe",
        "outputId": "6fbaa903-26b1-4e0e-e8c4-82a291d9a1e1"
      },
      "source": [
        "for i,topic in enumerate(nmf.components_):\n",
        "    print(f'Top 10 words for topic #{i}:')\n",
        "    print([tfidf_vect.get_feature_names()[i] for i in topic.argsort()[-10:]])\n",
        "    print('\\n')"
      ],
      "execution_count": 45,
      "outputs": [
        {
          "output_type": "stream",
          "text": [
            "Top 10 words for topic #0:\n",
            "['hijack', 'jailed', 'plane', 'stabbing', 'stuttle', 'face', 'charged', 'court', 'murder', 'man']\n",
            "\n",
            "\n",
            "Top 10 words for topic #1:\n",
            "['hope', 'plan', 'relief', 'breaking', 'boost', 'council', 'farmers', 'drought', 'water', 'rain']\n",
            "\n",
            "\n",
            "Top 10 words for topic #2:\n",
            "['tells', 'qantas', 'defends', 'howard', 'pm', 'criticism', 'protesters', 'anti', 'iraq', 'war']\n",
            "\n",
            "\n",
            "Top 10 words for topic #3:\n",
            "['rejects', 'claim', 'british', 'sa', 'claims', 'high', 'court', 'new', 'nsw', 'govt']\n",
            "\n",
            "\n",
            "Top 10 words for topic #4:\n",
            "['seek', 'station', 'cannabis', 'embassy', 'house', 'drug', 'raid', 'continue', 'probe', 'police']\n",
            "\n",
            "\n"
          ],
          "name": "stdout"
        }
      ]
    },
    {
      "cell_type": "code",
      "metadata": {
        "id": "nx8hh1hovKtm"
      },
      "source": [
        "topic_values = nmf.transform(doc_term_matrix)\n",
        "data['Topic_NM'] = topic_values.argmax(axis=1)\n",
        "data.to_csv('with_level_nm.csv')"
      ],
      "execution_count": 46,
      "outputs": []
    },
    {
      "cell_type": "code",
      "metadata": {
        "id": "eMr0hQrwwAU3"
      },
      "source": [
        ""
      ],
      "execution_count": null,
      "outputs": []
    }
  ]
}