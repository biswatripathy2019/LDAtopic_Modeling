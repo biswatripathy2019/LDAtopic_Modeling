{
  "nbformat": 4,
  "nbformat_minor": 0,
  "metadata": {
    "colab": {
      "name": "LDA_TopicModeling.ipynb",
      "provenance": []
    },
    "kernelspec": {
      "name": "python3",
      "display_name": "Python 3"
    },
    "language_info": {
      "name": "python"
    }
  },
  "cells": [
    {
      "cell_type": "code",
      "metadata": {
        "id": "NVOEfxTEudz4"
      },
      "source": [
        "import re\n",
        "import numpy as np\n",
        "import pandas as pd\n",
        "from pprint import pprint\n",
        "\n",
        "# Gensim\n",
        "import gensim\n",
        "import gensim.corpora as corpora\n",
        "from gensim.utils import simple_preprocess\n",
        "from gensim.models import CoherenceModel\n",
        "\n",
        "# spacy for lemmatization\n",
        "import spacy\n",
        "\n",
        "# Plotting tools\n",
        "'''import pyLDAvis\n",
        "import pyLDAvis.gensim  # don't skip this\n",
        "import matplotlib.pyplot as plt\n",
        "%matplotlib inline '''\n",
        "\n",
        "# Enable logging for gensim - optional\n",
        "import logging\n",
        "logging.basicConfig(format='%(asctime)s : %(levelname)s : %(message)s', level=logging.ERROR)\n",
        "\n",
        "import warnings\n",
        "warnings.filterwarnings(\"ignore\",category=DeprecationWarning)\n",
        "\n",
        "\n",
        "\n",
        "\n",
        "\n",
        "\n"
      ],
      "execution_count": null,
      "outputs": []
    },
    {
      "cell_type": "code",
      "metadata": {
        "colab": {
          "base_uri": "https://localhost:8080/"
        },
        "id": "-j8jY37MvUUL",
        "outputId": "56a0779d-7d7a-4508-8258-86c163a10bd7"
      },
      "source": [
        "import pandas as pd\n",
        "df=pd.read_json('https://raw.githubusercontent.com/selva86/datasets/master/newsgroups.json')\n",
        "print(df)\n",
        "df['target_names'].unique()"
      ],
      "execution_count": null,
      "outputs": [
        {
          "output_type": "stream",
          "text": [
            "                                                 content  ...              target_names\n",
            "0      From: lerxst@wam.umd.edu (where's my thing)\\nS...  ...                 rec.autos\n",
            "1      From: guykuo@carson.u.washington.edu (Guy Kuo)...  ...     comp.sys.mac.hardware\n",
            "2      From: twillis@ec.ecn.purdue.edu (Thomas E Will...  ...     comp.sys.mac.hardware\n",
            "3      From: jgreen@amber (Joe Green)\\nSubject: Re: W...  ...             comp.graphics\n",
            "4      From: jcm@head-cfa.harvard.edu (Jonathan McDow...  ...                 sci.space\n",
            "...                                                  ...  ...                       ...\n",
            "11309  From: jim.zisfein@factory.com (Jim Zisfein) \\n...  ...                   sci.med\n",
            "11310  From: ebodin@pearl.tufts.edu\\nSubject: Screen ...  ...     comp.sys.mac.hardware\n",
            "11311  From: westes@netcom.com (Will Estes)\\nSubject:...  ...  comp.sys.ibm.pc.hardware\n",
            "11312  From: steve@hcrlgw (Steven Collins)\\nSubject: ...  ...             comp.graphics\n",
            "11313  From: gunning@cco.caltech.edu (Kevin J. Gunnin...  ...           rec.motorcycles\n",
            "\n",
            "[11314 rows x 3 columns]\n"
          ],
          "name": "stdout"
        },
        {
          "output_type": "execute_result",
          "data": {
            "text/plain": [
              "array(['rec.autos', 'comp.sys.mac.hardware', 'comp.graphics', 'sci.space',\n",
              "       'talk.politics.guns', 'sci.med', 'comp.sys.ibm.pc.hardware',\n",
              "       'comp.os.ms-windows.misc', 'rec.motorcycles', 'talk.religion.misc',\n",
              "       'misc.forsale', 'alt.atheism', 'sci.electronics', 'comp.windows.x',\n",
              "       'rec.sport.hockey', 'rec.sport.baseball', 'soc.religion.christian',\n",
              "       'talk.politics.mideast', 'talk.politics.misc', 'sci.crypt'],\n",
              "      dtype=object)"
            ]
          },
          "metadata": {
            "tags": []
          },
          "execution_count": 3
        }
      ]
    },
    {
      "cell_type": "code",
      "metadata": {
        "colab": {
          "base_uri": "https://localhost:8080/"
        },
        "id": "NrXg8BtxupFT",
        "outputId": "d32297a4-3f06-445a-ce65-ff81910cef27"
      },
      "source": [
        "# NLTK Stop words\n",
        "import nltk\n",
        "nltk.download('stopwords')\n",
        "from nltk.corpus import stopwords\n",
        "stop_words = stopwords.words('english')\n",
        "stop_words.extend(['from', 'subject', 're', 'edu', 'use'])"
      ],
      "execution_count": null,
      "outputs": [
        {
          "output_type": "stream",
          "text": [
            "[nltk_data] Downloading package stopwords to /root/nltk_data...\n",
            "[nltk_data]   Unzipping corpora/stopwords.zip.\n"
          ],
          "name": "stdout"
        }
      ]
    },
    {
      "cell_type": "code",
      "metadata": {
        "colab": {
          "base_uri": "https://localhost:8080/"
        },
        "id": "VE1Kq97vA-Mo",
        "outputId": "06e796e0-0d09-4e1e-8612-54a2e7ab8888"
      },
      "source": [
        "# Convert to list\n",
        "data = df.content.values.tolist()\n",
        "\n",
        "# Remove Emails\n",
        "data = [re.sub('\\S*@\\S*\\s?', '', sent) for sent in data]\n",
        "\n",
        "# Remove new line characters\n",
        "data = [re.sub('\\s+', ' ', sent) for sent in data]\n",
        "\n",
        "# Remove distracting single quotes\n",
        "data = [re.sub(\"\\'\", \"\", sent) for sent in data]\n",
        "\n",
        "pprint(data[:1])"
      ],
      "execution_count": null,
      "outputs": [
        {
          "output_type": "stream",
          "text": [
            "['From: (wheres my thing) Subject: WHAT car is this!? Nntp-Posting-Host: '\n",
            " 'rac3.wam.umd.edu Organization: University of Maryland, College Park Lines: '\n",
            " '15 I was wondering if anyone out there could enlighten me on this car I saw '\n",
            " 'the other day. It was a 2-door sports car, looked to be from the late 60s/ '\n",
            " 'early 70s. It was called a Bricklin. The doors were really small. In '\n",
            " 'addition, the front bumper was separate from the rest of the body. This is '\n",
            " 'all I know. If anyone can tellme a model name, engine specs, years of '\n",
            " 'production, where this car is made, history, or whatever info you have on '\n",
            " 'this funky looking car, please e-mail. Thanks, - IL ---- brought to you by '\n",
            " 'your neighborhood Lerxst ---- ']\n"
          ],
          "name": "stdout"
        }
      ]
    },
    {
      "cell_type": "code",
      "metadata": {
        "colab": {
          "base_uri": "https://localhost:8080/"
        },
        "id": "aRPFkZn_DSmH",
        "outputId": "74b860ce-02cd-4fde-9ddc-0f03f3979f97"
      },
      "source": [
        "#Let’s tokenize each sentence into a list of words, removing punctuations and unnecessary characters altogether.\n",
        "\n",
        "#Gensim’s simple_preprocess() is great for this. Additionally I have set deacc=True to remove the punctuations.\n",
        "def sent_to_words(sentences):\n",
        "    for sentence in sentences:\n",
        "        yield(gensim.utils.simple_preprocess(str(sentence), deacc=True))  # deacc=True removes punctuations\n",
        "\n",
        "data_words = list(sent_to_words(data))\n",
        "\n",
        "print(data_words[:1])"
      ],
      "execution_count": null,
      "outputs": [
        {
          "output_type": "stream",
          "text": [
            "[['from', 'wheres', 'my', 'thing', 'subject', 'what', 'car', 'is', 'this', 'nntp', 'posting', 'host', 'rac', 'wam', 'umd', 'edu', 'organization', 'university', 'of', 'maryland', 'college', 'park', 'lines', 'was', 'wondering', 'if', 'anyone', 'out', 'there', 'could', 'enlighten', 'me', 'on', 'this', 'car', 'saw', 'the', 'other', 'day', 'it', 'was', 'door', 'sports', 'car', 'looked', 'to', 'be', 'from', 'the', 'late', 'early', 'it', 'was', 'called', 'bricklin', 'the', 'doors', 'were', 'really', 'small', 'in', 'addition', 'the', 'front', 'bumper', 'was', 'separate', 'from', 'the', 'rest', 'of', 'the', 'body', 'this', 'is', 'all', 'know', 'if', 'anyone', 'can', 'tellme', 'model', 'name', 'engine', 'specs', 'years', 'of', 'production', 'where', 'this', 'car', 'is', 'made', 'history', 'or', 'whatever', 'info', 'you', 'have', 'on', 'this', 'funky', 'looking', 'car', 'please', 'mail', 'thanks', 'il', 'brought', 'to', 'you', 'by', 'your', 'neighborhood', 'lerxst']]\n"
          ],
          "name": "stdout"
        }
      ]
    },
    {
      "cell_type": "code",
      "metadata": {
        "colab": {
          "base_uri": "https://localhost:8080/"
        },
        "id": "hsyuHQlYDxX1",
        "outputId": "fde38208-2f06-4620-d474-ab066aedd8e2"
      },
      "source": [
        "#build bigrams & trigrams\n",
        "\n",
        "bigram=gensim.models.Phrases(data_words,min_count=5, threshold=100)\n",
        "trigram = gensim.models.Phrases(bigram[data_words], threshold=100) \n"
      ],
      "execution_count": null,
      "outputs": [
        {
          "output_type": "stream",
          "text": [
            "/usr/local/lib/python3.7/dist-packages/gensim/models/phrases.py:598: UserWarning: For a faster implementation, use the gensim.models.phrases.Phraser class\n",
            "  warnings.warn(\"For a faster implementation, use the gensim.models.phrases.Phraser class\")\n"
          ],
          "name": "stderr"
        }
      ]
    },
    {
      "cell_type": "code",
      "metadata": {
        "id": "h2iTvPJ9FrO9"
      },
      "source": [
        "bigram_mod = gensim.models.phrases.Phraser(bigram)\n",
        "trigram_mod = gensim.models.phrases.Phraser(trigram)\n"
      ],
      "execution_count": null,
      "outputs": []
    },
    {
      "cell_type": "code",
      "metadata": {
        "colab": {
          "base_uri": "https://localhost:8080/"
        },
        "id": "mqryefOkGvJT",
        "outputId": "ae52813f-259b-40da-b90f-8054eb22ef15"
      },
      "source": [
        "print(trigram_mod[bigram_mod[data_words[100]]])"
      ],
      "execution_count": null,
      "outputs": [
        {
          "output_type": "stream",
          "text": [
            "['from', 'tsung', 'kun', 'chen', 'subject', 'software', 'forsale', 'lots', 'nntp_posting_host_magnusug', 'magnus_acs_ohio_state', 'edu', 'organization', 'the', 'ohio_state_university', 'this', 'is', 'post', 'for', 'my', 'friend', 'you', 'can', 'either', 'call', 'him', 'lee', 'or', 'drop', 'me', 'mail', 'distribution_usa', 'lines', 'software', 'publishing', 'superbase', 'windows', 'ocr', 'system', 'readright', 'for', 'windows', 'ocr', 'system', 'readright', 'for', 'dos', 'unregistered', 'zortech', 'bit', 'compiler', 'with', 'multiscope', 'windows', 'debugger', 'whitewater', 'resource', 'toolkit', 'library', 'source_code', 'glockenspiel', 'imagesoft', 'commonview', 'windows', 'applications', 'framework', 'for', 'borland', 'spontaneous', 'assembly', 'library', 'with', 'source_code', 'microsoft', 'macro', 'assembly', 'microsoft', 'windows', 'sdk', 'documentation', 'microsoft', 'foxpro', 'wordperfect', 'developers_toolkit', 'kedwell', 'software', 'databoss', 'code', 'generator', 'kedwell', 'installboss', 'installation', 'generator', 'liant', 'software', 'views', 'windows', 'application', 'framework', 'with', 'source_code', 'ibm', 'os', 'developers_toolkit', 'cbtree', 'dos', 'windows', 'library', 'with', 'source_code', 'symantec', 'timeline', 'for', 'windows', 'timeslip', 'timesheet', 'professional', 'for', 'windows', 'many', 'more', 'software', 'books', 'available', 'price', 'negotiable']\n"
          ],
          "name": "stdout"
        }
      ]
    },
    {
      "cell_type": "code",
      "metadata": {
        "id": "qEKEC3I8HJlJ"
      },
      "source": [
        "# Define functions for stopwords, bigrams, trigrams and lemmatization\n",
        "def remove_stopwords(texts):\n",
        "    return [[word for word in simple_preprocess(str(doc)) if word not in stop_words] for doc in texts]\n",
        "\n",
        "def make_bigrams(texts):\n",
        "    return [bigram_mod[doc] for doc in texts]\n",
        "\n",
        "def make_trigrams(texts):\n",
        "    return [trigram_mod[bigram_mod[doc]] for doc in texts]\n",
        "\n",
        "def lemmatization(texts, allowed_postags=['NOUN', 'ADJ', 'VERB', 'ADV']):\n",
        "    \"\"\"https://spacy.io/api/annotation\"\"\"\n",
        "    texts_out = []\n",
        "    for sent in texts:\n",
        "        doc = nlp(\" \".join(sent)) \n",
        "        texts_out.append([token.lemma_ for token in doc if token.pos_ in allowed_postags])\n",
        "    return texts_out"
      ],
      "execution_count": null,
      "outputs": []
    },
    {
      "cell_type": "code",
      "metadata": {
        "colab": {
          "base_uri": "https://localhost:8080/"
        },
        "id": "gU-Jqmz_IaP9",
        "outputId": "406efa76-280c-4360-cd49-1e819101674a"
      },
      "source": [
        "# Remove Stop Words\n",
        "data_words_nostops = remove_stopwords(data_words)\n",
        "\n",
        "# Form Bigrams\n",
        "data_words_bigrams = make_bigrams(data_words_nostops)\n",
        "\n",
        "# Initialize spacy 'en' model, keeping only tagger component (for efficiency)\n",
        "# python3 -m spacy download en\n",
        "nlp = spacy.load('en', disable=['parser', 'ner'])\n",
        "\n",
        "# Do lemmatization keeping only noun, adj, vb, adv\n",
        "data_lemmatized = lemmatization(data_words_bigrams, allowed_postags=['NOUN', 'ADJ', 'VERB', 'ADV'])\n",
        "\n",
        "print(data_lemmatized[:1])"
      ],
      "execution_count": null,
      "outputs": [
        {
          "output_type": "stream",
          "text": [
            "[['where', 'thing', 'car', 'nntp_poste', 'host', 'park', 'line', 'wonder', 'could', 'enlighten', 'car', 'see', 'day', 'door', 'sport', 'car', 'look', 'late', 'early', 'call', 'bricklin', 'door', 'really', 'small', 'addition', 'separate', 'rest', 'body', 'know', 'tellme', 'model', 'name', 'engine', 'year', 'production', 'car', 'make', 'history', 'info', 'funky', 'look', 'car', 'mail', 'thank', 'bring', 'neighborhood', 'lerxst']]\n"
          ],
          "name": "stdout"
        }
      ]
    },
    {
      "cell_type": "code",
      "metadata": {
        "colab": {
          "base_uri": "https://localhost:8080/"
        },
        "id": "vppilEjyIuff",
        "outputId": "1c531b8e-3e2a-4344-c199-ee46a564dea8"
      },
      "source": [
        "#The two main inputs to the LDA topic model are the dictionary(id2word) and the corpus. Let’s create them.\n",
        "# Create Dictionary\n",
        "id2word=corpora.Dictionary(data_lemmatized)\n",
        "print(id2word)\n",
        "\n",
        "# Create Corpus\n",
        "corp=data_lemmatized\n",
        "print(corp)\n",
        "\n",
        "#Term Document Frequency\n",
        "corpus=[id2word.doc2bow(text) for text in corp]\n",
        "\n",
        "print(corpus[:1])\n",
        "\n",
        "#Gensim creates a unique id for each word in the document. The produced corpus shown above is a mapping of (word_id, word_frequency).\n",
        "\n"
      ],
      "execution_count": null,
      "outputs": [
        {
          "output_type": "stream",
          "text": [
            "IOPub data rate exceeded.\n",
            "The notebook server will temporarily stop sending output\n",
            "to the client in order to avoid crashing it.\n",
            "To change this limit, set the config variable\n",
            "`--NotebookApp.iopub_data_rate_limit`.\n",
            "\n",
            "Current values:\n",
            "NotebookApp.iopub_data_rate_limit=1000000.0 (bytes/sec)\n",
            "NotebookApp.rate_limit_window=3.0 (secs)\n",
            "\n"
          ],
          "name": "stderr"
        },
        {
          "output_type": "stream",
          "text": [
            "[[(0, 1), (1, 1), (2, 1), (3, 1), (4, 1), (5, 5), (6, 1), (7, 1), (8, 2), (9, 1), (10, 1), (11, 1), (12, 1), (13, 1), (14, 1), (15, 1), (16, 1), (17, 1), (18, 1), (19, 1), (20, 2), (21, 1), (22, 1), (23, 1), (24, 1), (25, 1), (26, 1), (27, 1), (28, 1), (29, 1), (30, 1), (31, 1), (32, 1), (33, 1), (34, 1), (35, 1), (36, 1), (37, 1), (38, 1), (39, 1), (40, 1)]]\n"
          ],
          "name": "stdout"
        }
      ]
    },
    {
      "cell_type": "code",
      "metadata": {
        "colab": {
          "base_uri": "https://localhost:8080/",
          "height": 35
        },
        "id": "Z6uZaFczLGS7",
        "outputId": "e2360b8d-0ab3-46da-9808-3fa050b2809b"
      },
      "source": [
        "id2word[0]"
      ],
      "execution_count": null,
      "outputs": [
        {
          "output_type": "execute_result",
          "data": {
            "application/vnd.google.colaboratory.intrinsic+json": {
              "type": "string"
            },
            "text/plain": [
              "'addition'"
            ]
          },
          "metadata": {
            "tags": []
          },
          "execution_count": 13
        }
      ]
    },
    {
      "cell_type": "code",
      "metadata": {
        "colab": {
          "base_uri": "https://localhost:8080/"
        },
        "id": "ezSWeeX-L8Dg",
        "outputId": "38573ed1-eab3-4e02-bb76-63ce75e58438"
      },
      "source": [
        "# Human readable format of corpus (term-frequency)\n",
        "[[(id2word[id], freq) for id, freq in i] for i in corpus[:1]]"
      ],
      "execution_count": null,
      "outputs": [
        {
          "output_type": "execute_result",
          "data": {
            "text/plain": [
              "[[('addition', 1),\n",
              "  ('body', 1),\n",
              "  ('bricklin', 1),\n",
              "  ('bring', 1),\n",
              "  ('call', 1),\n",
              "  ('car', 5),\n",
              "  ('could', 1),\n",
              "  ('day', 1),\n",
              "  ('door', 2),\n",
              "  ('early', 1),\n",
              "  ('engine', 1),\n",
              "  ('enlighten', 1),\n",
              "  ('funky', 1),\n",
              "  ('history', 1),\n",
              "  ('host', 1),\n",
              "  ('info', 1),\n",
              "  ('know', 1),\n",
              "  ('late', 1),\n",
              "  ('lerxst', 1),\n",
              "  ('line', 1),\n",
              "  ('look', 2),\n",
              "  ('mail', 1),\n",
              "  ('make', 1),\n",
              "  ('model', 1),\n",
              "  ('name', 1),\n",
              "  ('neighborhood', 1),\n",
              "  ('nntp_poste', 1),\n",
              "  ('park', 1),\n",
              "  ('production', 1),\n",
              "  ('really', 1),\n",
              "  ('rest', 1),\n",
              "  ('see', 1),\n",
              "  ('separate', 1),\n",
              "  ('small', 1),\n",
              "  ('sport', 1),\n",
              "  ('tellme', 1),\n",
              "  ('thank', 1),\n",
              "  ('thing', 1),\n",
              "  ('where', 1),\n",
              "  ('wonder', 1),\n",
              "  ('year', 1)]]"
            ]
          },
          "metadata": {
            "tags": []
          },
          "execution_count": 14
        }
      ]
    },
    {
      "cell_type": "code",
      "metadata": {
        "id": "HFE3aZ0oMMlS"
      },
      "source": [
        "#We have everything required to train the LDA model. In addition to the corpus and dictionary, you need to provide the number of topics as well.\n",
        "\n",
        "#Apart from that, alpha and eta are hyperparameters that affect sparsity of the topics. According to the Gensim docs, both defaults to 1.0/num_topics prior.\n",
        "\n",
        "#chunksize is the number of documents to be used in each training chunk. update_every determines how often the model parameters should be updated and passes is the total number of training passes.\n",
        "\n",
        "# Build LDA model\n",
        "lda_model = gensim.models.ldamodel.LdaModel(corpus=corpus,\n",
        "                                           id2word=id2word,\n",
        "                                           num_topics=20, \n",
        "                                           random_state=100,\n",
        "                                           update_every=1,\n",
        "                                           chunksize=100,\n",
        "                                           passes=10,\n",
        "                                           alpha='auto',\n",
        "                                           per_word_topics=True)"
      ],
      "execution_count": null,
      "outputs": []
    },
    {
      "cell_type": "code",
      "metadata": {
        "colab": {
          "base_uri": "https://localhost:8080/"
        },
        "id": "7gJxXdnkMsfn",
        "outputId": "0be73390-e2f1-4ab5-c24e-da6786213b2c"
      },
      "source": [
        "#The above LDA model is built with 20 different topics where each topic is a combination of keywords and each keyword contributes a certain weightage to the topic.\n",
        "\n",
        "#You can see the keywords for each topic and the weightage(importance) of each keyword using lda_model.print_topics() as shown next.\n",
        "\n",
        "\n",
        "pprint(lda_model.print_topics())\n",
        "doc_lda = lda_model[corpus]\n",
        "\n",
        "#How to interpret this?\n",
        "\n",
        "#Topic 0 is a represented as _0.016“car” + 0.014“power” + 0.010“light” + 0.009“drive” + 0.007“mount” + 0.007“controller” + 0.007“cool” + 0.007“engine” + 0.007“back” + ‘0.006“turn”.\n",
        "\n",
        "#It means the top 10 keywords that contribute to this topic are: ‘car’, ‘power’, ‘light’.. and so on and the weight of ‘car’ on topic 0 is 0.016.\n",
        "\n",
        "#The weights reflect how important a keyword is to that topic.\n",
        "\n",
        "#Looking at these keywords, can you guess what this topic could be? You may summarise it either are ‘cars’ or ‘automobiles’.\n",
        "\n"
      ],
      "execution_count": null,
      "outputs": [
        {
          "output_type": "stream",
          "text": [
            "[(0,\n",
            "  '0.051*\"report\" + 0.027*\"black\" + 0.020*\"fire\" + 0.020*\"white\" + '\n",
            "  '0.016*\"trial\" + 0.016*\"cover\" + 0.015*\"medium\" + 0.013*\"vote\" + '\n",
            "  '0.012*\"minor\" + 0.012*\"title\"'),\n",
            " (1,\n",
            "  '0.021*\"god\" + 0.020*\"accept\" + 0.016*\"member\" + 0.015*\"man\" + '\n",
            "  '0.014*\"israeli\" + 0.014*\"season\" + 0.012*\"publish\" + 0.012*\"lebanese\" + '\n",
            "  '0.012*\"jewish\" + 0.011*\"brain\"'),\n",
            " (2,\n",
            "  '0.017*\"package\" + 0.016*\"press\" + 0.015*\"item\" + 0.015*\"break\" + '\n",
            "  '0.011*\"level\" + 0.010*\"edge\" + 0.009*\"hole\" + 0.007*\"eye\" + '\n",
            "  '0.007*\"contribute\" + 0.007*\"equipment\"'),\n",
            " (3,\n",
            "  '0.025*\"pc\" + 0.022*\"contain\" + 0.020*\"input\" + 0.020*\"reality\" + '\n",
            "  '0.017*\"picture\" + 0.016*\"object\" + 0.016*\"level\" + 0.015*\"box\" + '\n",
            "  '0.015*\"quality\" + 0.013*\"greek\"'),\n",
            " (4,\n",
            "  '0.089*\"ax\" + 0.076*\"max\" + 0.032*\"space\" + 0.021*\"launch\" + 0.018*\"di_di\" + '\n",
            "  '0.017*\"orbit\" + 0.016*\"sphere\" + 0.015*\"satellite\" + 0.014*\"plane\" + '\n",
            "  '0.014*\"mission\"'),\n",
            " (5,\n",
            "  '0.019*\"people\" + 0.017*\"kill\" + 0.015*\"child\" + 0.015*\"government\" + '\n",
            "  '0.012*\"attack\" + 0.012*\"year\" + 0.012*\"die\" + 0.011*\"country\" + 0.010*\"say\" '\n",
            "  '+ 0.009*\"war\"'),\n",
            " (6,\n",
            "  '0.035*\"window\" + 0.032*\"card\" + 0.020*\"image\" + 0.020*\"driver\" + '\n",
            "  '0.020*\"problem\" + 0.019*\"run\" + 0.018*\"sale\" + 0.018*\"machine\" + '\n",
            "  '0.017*\"color\" + 0.016*\"screen\"'),\n",
            " (7,\n",
            "  '0.025*\"people\" + 0.021*\"say\" + 0.014*\"reason\" + 0.014*\"believe\" + '\n",
            "  '0.012*\"may\" + 0.012*\"evidence\" + 0.010*\"make\" + 0.010*\"think\" + '\n",
            "  '0.009*\"many\" + 0.009*\"mean\"'),\n",
            " (8,\n",
            "  '0.032*\"book\" + 0.023*\"physical\" + 0.021*\"science\" + 0.017*\"choose\" + '\n",
            "  '0.016*\"explain\" + 0.015*\"create\" + 0.011*\"author\" + 0.011*\"earth\" + '\n",
            "  '0.010*\"study\" + 0.010*\"nature\"'),\n",
            " (9,\n",
            "  '0.033*\"mail\" + 0.028*\"file\" + 0.027*\"send\" + 0.026*\"program\" + '\n",
            "  '0.025*\"thank\" + 0.024*\"information\" + 0.021*\"software\" + 0.021*\"list\" + '\n",
            "  '0.019*\"include\" + 0.019*\"address\"'),\n",
            " (10,\n",
            "  '0.073*\"group\" + 0.031*\"week\" + 0.021*\"young\" + 0.017*\"drug\" + 0.015*\"watch\" '\n",
            "  '+ 0.013*\"nntp_posting\" + 0.013*\"age\" + 0.013*\"route\" + 0.011*\"kid\" + '\n",
            "  '0.010*\"capable\"'),\n",
            " (11,\n",
            "  '0.073*\"car\" + 0.023*\"existence\" + 0.022*\"model\" + 0.020*\"engine\" + '\n",
            "  '0.016*\"pain\" + 0.012*\"keyboard\" + 0.012*\"mile\" + 0.011*\"should\" + '\n",
            "  '0.011*\"price\" + 0.011*\"insurance\"'),\n",
            " (12,\n",
            "  '0.070*\"drive\" + 0.025*\"power\" + 0.024*\"player\" + 0.017*\"speed\" + '\n",
            "  '0.017*\"light\" + 0.014*\"high\" + 0.013*\"bus\" + 0.012*\"university\" + '\n",
            "  '0.012*\"fast\" + 0.012*\"scsi\"'),\n",
            " (13,\n",
            "  '0.040*\"line\" + 0.039*\"would\" + 0.035*\"write\" + 0.024*\"article\" + 0.021*\"be\" '\n",
            "  '+ 0.020*\"get\" + 0.020*\"know\" + 0.020*\"go\" + 0.014*\"good\" + 0.014*\"think\"'),\n",
            " (14,\n",
            "  '0.027*\"patient\" + 0.017*\"family\" + 0.014*\"food\" + 0.013*\"treatment\" + '\n",
            "  '0.012*\"disease\" + 0.012*\"doctor\" + 0.011*\"cd\" + 0.011*\"diagnosis\" + '\n",
            "  '0.011*\"risk\" + 0.010*\"cause\"'),\n",
            " (15,\n",
            "  '0.029*\"wire\" + 0.021*\"ground\" + 0.021*\"eat\" + 0.019*\"material\" + '\n",
            "  '0.018*\"seller\" + 0.018*\"controller\" + 0.016*\"signal\" + 0.016*\"trust\" + '\n",
            "  '0.015*\"lead\" + 0.015*\"expensive\"'),\n",
            " (16,\n",
            "  '0.042*\"gun\" + 0.025*\"right\" + 0.016*\"carry\" + 0.015*\"law\" + 0.014*\"state\" + '\n",
            "  '0.014*\"crime\" + 0.014*\"weapon\" + 0.014*\"shoot\" + 0.013*\"steal\" + '\n",
            "  '0.013*\"protect\"'),\n",
            " (17,\n",
            "  '0.028*\"use\" + 0.025*\"system\" + 0.016*\"also\" + 0.014*\"may\" + 0.014*\"number\" '\n",
            "  '+ 0.012*\"new\" + 0.009*\"work\" + 0.009*\"support\" + 0.008*\"bit\" + '\n",
            "  '0.008*\"need\"'),\n",
            " (18,\n",
            "  '0.043*\"team\" + 0.039*\"game\" + 0.036*\"year\" + 0.030*\"play\" + 0.024*\"win\" + '\n",
            "  '0.017*\"lose\" + 0.013*\"hit\" + 0.013*\"fan\" + 0.012*\"last\" + 0.012*\"hockey\"'),\n",
            " (19,\n",
            "  '0.054*\"key\" + 0.030*\"public\" + 0.021*\"government\" + 0.017*\"internet\" + '\n",
            "  '0.015*\"encryption\" + 0.015*\"technology\" + 0.014*\"chip\" + 0.014*\"security\" + '\n",
            "  '0.014*\"instal\" + 0.013*\"private\"')]\n"
          ],
          "name": "stdout"
        }
      ]
    },
    {
      "cell_type": "code",
      "metadata": {
        "id": "o0bh_JqpN6Mi",
        "colab": {
          "base_uri": "https://localhost:8080/"
        },
        "outputId": "19dfece3-8207-4937-ed24-2a9857ece099"
      },
      "source": [
        "#Model perplexity and topic coherence provide a convenient measure to judge how good a given topic model is. In my experience, topic coherence score, in particular, has been more helpful.\n",
        "print('\\nPerplexity: ',lda_model.log_perplexity(corpus))\n",
        "# a measure of how good the model is. lower the better.\n",
        "\n",
        "# Compute Coherence Score\n",
        "coherence_model_lda = CoherenceModel(model=lda_model, texts=data_lemmatized, dictionary=id2word, coherence='c_v')\n",
        "coherence_lda = coherence_model_lda.get_coherence()\n",
        "print('\\nCoherence Score: ', coherence_lda)"
      ],
      "execution_count": null,
      "outputs": [
        {
          "output_type": "stream",
          "text": [
            "\n",
            "Perplexity:  -8.348721028532445\n",
            "\n",
            "Coherence Score:  0.4392813747423439\n"
          ],
          "name": "stdout"
        }
      ]
    },
    {
      "cell_type": "code",
      "metadata": {
        "colab": {
          "base_uri": "https://localhost:8080/",
          "height": 334
        },
        "id": "NqkL2_w3HBtj",
        "outputId": "3761ab34-619b-4942-ff9e-070cb4888295"
      },
      "source": [
        "import pyLDAvis\n",
        "import pyLDAvis.gensim_models as gensimvis\n",
        "pyLDAvis.enable_notebook()"
      ],
      "execution_count": null,
      "outputs": [
        {
          "output_type": "error",
          "ename": "ModuleNotFoundError",
          "evalue": "ignored",
          "traceback": [
            "\u001b[0;31m---------------------------------------------------------------------------\u001b[0m",
            "\u001b[0;31mModuleNotFoundError\u001b[0m                       Traceback (most recent call last)",
            "\u001b[0;32m<ipython-input-3-75cb2750b710>\u001b[0m in \u001b[0;36m<module>\u001b[0;34m()\u001b[0m\n\u001b[0;32m----> 1\u001b[0;31m \u001b[0;32mimport\u001b[0m \u001b[0mpyLDAvis\u001b[0m\u001b[0;34m\u001b[0m\u001b[0;34m\u001b[0m\u001b[0m\n\u001b[0m\u001b[1;32m      2\u001b[0m \u001b[0;32mimport\u001b[0m \u001b[0mpyLDAvis\u001b[0m\u001b[0;34m.\u001b[0m\u001b[0mgensim_models\u001b[0m \u001b[0;32mas\u001b[0m \u001b[0mgensimvis\u001b[0m\u001b[0;34m\u001b[0m\u001b[0;34m\u001b[0m\u001b[0m\n\u001b[1;32m      3\u001b[0m \u001b[0mpyLDAvis\u001b[0m\u001b[0;34m.\u001b[0m\u001b[0menable_notebook\u001b[0m\u001b[0;34m(\u001b[0m\u001b[0;34m)\u001b[0m\u001b[0;34m\u001b[0m\u001b[0;34m\u001b[0m\u001b[0m\n",
            "\u001b[0;31mModuleNotFoundError\u001b[0m: No module named 'pyLDAvis'",
            "",
            "\u001b[0;31m---------------------------------------------------------------------------\u001b[0;32m\nNOTE: If your import is failing due to a missing package, you can\nmanually install dependencies using either !pip or !apt.\n\nTo view examples of installing some common dependencies, click the\n\"Open Examples\" button below.\n\u001b[0;31m---------------------------------------------------------------------------\u001b[0m\n"
          ]
        }
      ]
    },
    {
      "cell_type": "code",
      "metadata": {
        "id": "lNcc57nGalwC"
      },
      "source": [
        ""
      ],
      "execution_count": null,
      "outputs": []
    }
  ]
}